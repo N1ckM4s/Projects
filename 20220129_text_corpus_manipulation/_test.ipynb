{
 "cells": [
  {
   "cell_type": "code",
   "execution_count": 225,
   "metadata": {},
   "outputs": [],
   "source": [
    "with open('readme.md') as file:\n",
    "    text = file.read().split('\\n')\n",
    "text_old = text"
   ]
  },
  {
   "cell_type": "code",
   "execution_count": 227,
   "metadata": {},
   "outputs": [
    {
     "data": {
      "text/plain": [
       "['This is the first sentence',\n",
       " 'This is the second sentence',\n",
       " 'From here DeadPool now Wolverine',\n",
       " 'swords',\n",
       " '',\n",
       " '',\n",
       " '',\n",
       " '',\n",
       " '',\n",
       " 'claws',\n",
       " 'This is the third sentence',\n",
       " 'This is the fourth sentence']"
      ]
     },
     "execution_count": 227,
     "metadata": {},
     "output_type": "execute_result"
    }
   ],
   "source": [
    "import itertools\n",
    "\n",
    "def replace_text(text_old, replace_dict):\n",
    "    #inefficient, as I have to recreate the entire list\n",
    "    #but readable corpus are very very small\n",
    "    text_new = list()\n",
    "    for sentence in text_old:\n",
    "        list1 = list()\n",
    "        for word in sentence.split(' '):\n",
    "            if word in replace_dict.keys():\n",
    "                key = word\n",
    "                sentence = sentence.replace(key, replace_dict[key][0])\n",
    "                for new_line in replace_dict[key][1:]:\n",
    "                    list1.append(new_line)\n",
    "        list1 = [sentence]+list1\n",
    "                \n",
    "        if len(list1) != 0: \n",
    "            text_new.append(list1)\n",
    "        else:\n",
    "            text_new.append(sentence)\n",
    "    text_new = list(itertools.chain(*text_new))\n",
    "    return text_new\n",
    "\n",
    "#index 0 of value is replaced in text, all the following indexes become new lines\n",
    "replace_dict = {'@@@word1': ['DeadPool', 'swords']+['']*5, '@@@word2': ['Wolverine', 'claws']}\n",
    "text_new = replace_text(text, replace_dict)\n",
    "text_new"
   ]
  }
 ],
 "metadata": {
  "interpreter": {
   "hash": "75a300ae82dd7b8f387c1777b66b2ec8c7a5f6d51d6392630ee9b10fab7f95f8"
  },
  "kernelspec": {
   "display_name": "Python 3.9.0 64-bit",
   "language": "python",
   "name": "python3"
  },
  "language_info": {
   "codemirror_mode": {
    "name": "ipython",
    "version": 3
   },
   "file_extension": ".py",
   "mimetype": "text/x-python",
   "name": "python",
   "nbconvert_exporter": "python",
   "pygments_lexer": "ipython3",
   "version": "3.9.0"
  },
  "orig_nbformat": 4
 },
 "nbformat": 4,
 "nbformat_minor": 2
}
