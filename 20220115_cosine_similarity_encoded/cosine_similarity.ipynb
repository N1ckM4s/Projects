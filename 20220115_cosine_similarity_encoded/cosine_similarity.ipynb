{
 "cells": [
  {
   "cell_type": "code",
   "execution_count": 2,
   "metadata": {},
   "outputs": [
    {
     "name": "stdout",
     "output_type": "stream",
     "text": [
      "[[0.]]\n",
      "[[0.70710678]]\n"
     ]
    }
   ],
   "source": [
    "import sklearn\n",
    "from sklearn import metrics\n",
    "import numpy as np\n",
    "\n",
    "print(sklearn.metrics.pairwise.cosine_similarity([[0, 1, 0]], Y=[[1, 0, 0]], dense_output=True))\n",
    "print(sklearn.metrics.pairwise.cosine_similarity([[1, 0, 0]], Y=[[1, 0, 1]], dense_output=True))"
   ]
  },
  {
   "cell_type": "code",
   "execution_count": 34,
   "metadata": {},
   "outputs": [
    {
     "name": "stdout",
     "output_type": "stream",
     "text": [
      "[[1.]]\n"
     ]
    }
   ],
   "source": [
    "print(sklearn.metrics.pairwise.cosine_similarity([[1, 0]], Y=[[2, 0]], dense_output=True))"
   ]
  },
  {
   "cell_type": "code",
   "execution_count": 21,
   "metadata": {},
   "outputs": [
    {
     "name": "stdout",
     "output_type": "stream",
     "text": [
      "[[0.98994949]]\n",
      "[[0.93124278]]\n",
      "[[0.89075396]]\n"
     ]
    }
   ],
   "source": [
    "print(sklearn.metrics.pairwise.cosine_similarity([[0, 1, 2]], Y=[[0, 1, 3]], dense_output=True))\n",
    "print(sklearn.metrics.pairwise.cosine_similarity([[0, 1, 2]], Y=[[0, 1, 11]], dense_output=True))\n",
    "print(sklearn.metrics.pairwise.cosine_similarity([[0, 1, 2]], Y=[[1, 0, 11]], dense_output=True))"
   ]
  },
  {
   "cell_type": "code",
   "execution_count": 15,
   "metadata": {},
   "outputs": [
    {
     "name": "stdout",
     "output_type": "stream",
     "text": [
      "1.0\n",
      "9.0\n",
      "1.4142135623730951\n",
      "1.4142135623730951\n"
     ]
    }
   ],
   "source": [
    "print(np.linalg.norm(np.array([0, 1, 2])-np.array([0, 1, 3])))\n",
    "print(np.linalg.norm(np.array([0, 1, 2])-np.array([0, 1, 11])))\n",
    "\n",
    "print(np.linalg.norm(np.array([1, 0, 0, 1, 1, 0, 0])-np.array([1, 0, 0, 1, 0, 1, 0])))\n",
    "print(np.linalg.norm(np.array([1, 0, 0, 1, 1, 0, 0])-np.array([1, 0, 0, 1, 0, 0, 1])))"
   ]
  },
  {
   "cell_type": "code",
   "execution_count": 20,
   "metadata": {},
   "outputs": [
    {
     "name": "stdout",
     "output_type": "stream",
     "text": [
      "[[0.66666667]]\n",
      "[[0.66666667]]\n",
      "[[0.]]\n"
     ]
    }
   ],
   "source": [
    "print(sklearn.metrics.pairwise.cosine_similarity([[1, 0, 0, 1, 1, 0, 0]], Y=[[1, 0, 0, 1, 0, 1, 0]], dense_output=True))\n",
    "print(sklearn.metrics.pairwise.cosine_similarity([[1, 0, 0, 1, 1, 0, 0]], Y=[[1, 0, 0, 1, 0, 0, 1]], dense_output=True))\n",
    "print(sklearn.metrics.pairwise.cosine_similarity([[1, 0, 0, 1, 1, 0, 0]], Y=[[0, 1, 1, 0, 0, 0, 1]], dense_output=True))"
   ]
  },
  {
   "cell_type": "code",
   "execution_count": 42,
   "metadata": {},
   "outputs": [
    {
     "name": "stdout",
     "output_type": "stream",
     "text": [
      "[[0.66666667]]\n",
      "[[0.66666667]]\n"
     ]
    }
   ],
   "source": [
    "print(sklearn.metrics.pairwise.cosine_similarity([[1, 1, 1, 0, 0]], Y=[[1, 1, 0, 1, 0]], dense_output=True))\n",
    "print(sklearn.metrics.pairwise.cosine_similarity([[1, 1, 1, 0, 0]], Y=[[1, 1, 0, 0, 1]], dense_output=True))\n"
   ]
  },
  {
   "cell_type": "code",
   "execution_count": 40,
   "metadata": {},
   "outputs": [
    {
     "name": "stdout",
     "output_type": "stream",
     "text": [
      "[[0.70710678]]\n"
     ]
    }
   ],
   "source": [
    "print(sklearn.metrics.pairwise.cosine_similarity([[0, 1]], Y=[[1, 1]], dense_output=True))\n",
    "print(sklearn.metrics.pairwise.cosine_similarity([[0, 0, 0, 0, 0, 1]], Y=[[0, 0, 0, 0, 1, 1]], dense_output=True))"
   ]
  }
 ],
 "metadata": {
  "interpreter": {
   "hash": "75a300ae82dd7b8f387c1777b66b2ec8c7a5f6d51d6392630ee9b10fab7f95f8"
  },
  "kernelspec": {
   "display_name": "Python 3.9.0 64-bit",
   "language": "python",
   "name": "python3"
  },
  "language_info": {
   "codemirror_mode": {
    "name": "ipython",
    "version": 3
   },
   "file_extension": ".py",
   "mimetype": "text/x-python",
   "name": "python",
   "nbconvert_exporter": "python",
   "pygments_lexer": "ipython3",
   "version": "3.9.0"
  },
  "orig_nbformat": 4
 },
 "nbformat": 4,
 "nbformat_minor": 2
}
