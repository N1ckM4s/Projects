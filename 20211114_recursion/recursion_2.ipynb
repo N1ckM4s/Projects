{
 "cells": [
  {
   "cell_type": "code",
   "execution_count": null,
   "metadata": {},
   "outputs": [],
   "source": [
    "import pandas as pd\n",
    "df = pd.DataFrame([\n",
    "    [3, 2, 5, 2],\n",
    "    [8, 5, 4, 2],\n",
    "    [9, 0, 8, 6],\n",
    "    [9, 2, 7, 1],\n",
    "    [1, 9, 2, 3],\n",
    "    [8, 1, 1, 6],\n",
    "    [8, 8, 0, 0],\n",
    "    [0, 1, 3, 0],\n",
    "    [2, 4, 5, 3],\n",
    "    [4, 0, 9, 7]\n",
    "])\n",
    "df\n",
    "\n",
    "done = list()\n",
    "todo = [0, 3]\n",
    "\n",
    "iter = 0\n",
    "while iter < 3:\n",
    "    print('new', iter, done, todo)\n",
    "    tomove = len(todo)\n",
    "    todo_ = todo.copy() #we copy \n",
    "    for el in todo_:\n",
    "        print('inside', el, list(df.iloc[el]))\n",
    "        [todo.append(x) for x in list(df.iloc[el])]\n",
    "        \n",
    "    done = done+todo[0:tomove]\n",
    "    todo = todo[tomove:]\n",
    "    \n",
    "    iter += 1"
   ]
  },
  {
   "cell_type": "code",
   "execution_count": 128,
   "metadata": {},
   "outputs": [
    {
     "name": "stdout",
     "output_type": "stream",
     "text": [
      "new 0 [] [[0], [3]]\n",
      "inside [0] 0 [3, 2, 5, 2]\n",
      "inside [3] 3 [9, 2, 7, 1]\n",
      "new 1 [[0], [3]] [[0, 3], [0, 2], [0, 5], [0, 2], [3, 9], [3, 2], [3, 7], [3, 1]]\n",
      "inside [0, 3] 3 [9, 2, 7, 1]\n",
      "inside [0, 2] 2 [9, 0, 8, 6]\n",
      "inside [0, 5] 5 [8, 1, 1, 6]\n",
      "inside [0, 2] 2 [9, 0, 8, 6]\n",
      "inside [3, 9] 9 [4, 0, 9, 7]\n",
      "inside [3, 2] 2 [9, 0, 8, 6]\n",
      "inside [3, 7] 7 [0, 1, 3, 0]\n",
      "inside [3, 1] 1 [8, 5, 4, 2]\n",
      "new 2 [[0], [3], [0, 3], [0, 2], [0, 5], [0, 2], [3, 9], [3, 2], [3, 7], [3, 1]] [[0, 3, 9], [0, 3, 2], [0, 3, 7], [0, 3, 1], [0, 2, 9], [0, 2, 0], [0, 2, 8], [0, 2, 6], [0, 5, 8], [0, 5, 1], [0, 5, 1], [0, 5, 6], [0, 2, 9], [0, 2, 0], [0, 2, 8], [0, 2, 6], [3, 9, 4], [3, 9, 0], [3, 9, 9], [3, 9, 7], [3, 2, 9], [3, 2, 0], [3, 2, 8], [3, 2, 6], [3, 7, 0], [3, 7, 1], [3, 7, 3], [3, 7, 0], [3, 1, 8], [3, 1, 5], [3, 1, 4], [3, 1, 2]]\n",
      "inside [0, 3, 9] 9 [4, 0, 9, 7]\n",
      "inside [0, 3, 2] 2 [9, 0, 8, 6]\n",
      "inside [0, 3, 7] 7 [0, 1, 3, 0]\n",
      "inside [0, 3, 1] 1 [8, 5, 4, 2]\n",
      "inside [0, 2, 9] 9 [4, 0, 9, 7]\n",
      "inside [0, 2, 0] 0 [3, 2, 5, 2]\n",
      "inside [0, 2, 8] 8 [2, 4, 5, 3]\n",
      "inside [0, 2, 6] 6 [8, 8, 0, 0]\n",
      "inside [0, 5, 8] 8 [2, 4, 5, 3]\n",
      "inside [0, 5, 1] 1 [8, 5, 4, 2]\n",
      "inside [0, 5, 1] 1 [8, 5, 4, 2]\n",
      "inside [0, 5, 6] 6 [8, 8, 0, 0]\n",
      "inside [0, 2, 9] 9 [4, 0, 9, 7]\n",
      "inside [0, 2, 0] 0 [3, 2, 5, 2]\n",
      "inside [0, 2, 8] 8 [2, 4, 5, 3]\n",
      "inside [0, 2, 6] 6 [8, 8, 0, 0]\n",
      "inside [3, 9, 4] 4 [1, 9, 2, 3]\n",
      "inside [3, 9, 0] 0 [3, 2, 5, 2]\n",
      "inside [3, 9, 9] 9 [4, 0, 9, 7]\n",
      "inside [3, 9, 7] 7 [0, 1, 3, 0]\n",
      "inside [3, 2, 9] 9 [4, 0, 9, 7]\n",
      "inside [3, 2, 0] 0 [3, 2, 5, 2]\n",
      "inside [3, 2, 8] 8 [2, 4, 5, 3]\n",
      "inside [3, 2, 6] 6 [8, 8, 0, 0]\n",
      "inside [3, 7, 0] 0 [3, 2, 5, 2]\n",
      "inside [3, 7, 1] 1 [8, 5, 4, 2]\n",
      "inside [3, 7, 3] 3 [9, 2, 7, 1]\n",
      "inside [3, 7, 0] 0 [3, 2, 5, 2]\n",
      "inside [3, 1, 8] 8 [2, 4, 5, 3]\n",
      "inside [3, 1, 5] 5 [8, 1, 1, 6]\n",
      "inside [3, 1, 4] 4 [1, 9, 2, 3]\n",
      "inside [3, 1, 2] 2 [9, 0, 8, 6]\n"
     ]
    },
    {
     "data": {
      "text/plain": [
       "[[0, 3, 9, 4],\n",
       " [0, 3, 9, 0],\n",
       " [0, 3, 9, 9],\n",
       " [0, 3, 9, 7],\n",
       " [0, 3, 2, 9],\n",
       " [0, 3, 2, 0],\n",
       " [0, 3, 2, 8],\n",
       " [0, 3, 2, 6],\n",
       " [0, 3, 7, 0],\n",
       " [0, 3, 7, 1],\n",
       " [0, 3, 7, 3],\n",
       " [0, 3, 7, 0],\n",
       " [0, 3, 1, 8],\n",
       " [0, 3, 1, 5],\n",
       " [0, 3, 1, 4],\n",
       " [0, 3, 1, 2],\n",
       " [0, 2, 9, 4],\n",
       " [0, 2, 9, 0],\n",
       " [0, 2, 9, 9],\n",
       " [0, 2, 9, 7],\n",
       " [0, 2, 0, 3],\n",
       " [0, 2, 0, 2],\n",
       " [0, 2, 0, 5],\n",
       " [0, 2, 0, 2],\n",
       " [0, 2, 8, 2],\n",
       " [0, 2, 8, 4],\n",
       " [0, 2, 8, 5],\n",
       " [0, 2, 8, 3],\n",
       " [0, 2, 6, 8],\n",
       " [0, 2, 6, 8],\n",
       " [0, 2, 6, 0],\n",
       " [0, 2, 6, 0],\n",
       " [0, 5, 8, 2],\n",
       " [0, 5, 8, 4],\n",
       " [0, 5, 8, 5],\n",
       " [0, 5, 8, 3],\n",
       " [0, 5, 1, 8],\n",
       " [0, 5, 1, 5],\n",
       " [0, 5, 1, 4],\n",
       " [0, 5, 1, 2],\n",
       " [0, 5, 1, 8],\n",
       " [0, 5, 1, 5],\n",
       " [0, 5, 1, 4],\n",
       " [0, 5, 1, 2],\n",
       " [0, 5, 6, 8],\n",
       " [0, 5, 6, 8],\n",
       " [0, 5, 6, 0],\n",
       " [0, 5, 6, 0],\n",
       " [0, 2, 9, 4],\n",
       " [0, 2, 9, 0],\n",
       " [0, 2, 9, 9],\n",
       " [0, 2, 9, 7],\n",
       " [0, 2, 0, 3],\n",
       " [0, 2, 0, 2],\n",
       " [0, 2, 0, 5],\n",
       " [0, 2, 0, 2],\n",
       " [0, 2, 8, 2],\n",
       " [0, 2, 8, 4],\n",
       " [0, 2, 8, 5],\n",
       " [0, 2, 8, 3],\n",
       " [0, 2, 6, 8],\n",
       " [0, 2, 6, 8],\n",
       " [0, 2, 6, 0],\n",
       " [0, 2, 6, 0],\n",
       " [3, 9, 4, 1],\n",
       " [3, 9, 4, 9],\n",
       " [3, 9, 4, 2],\n",
       " [3, 9, 4, 3],\n",
       " [3, 9, 0, 3],\n",
       " [3, 9, 0, 2],\n",
       " [3, 9, 0, 5],\n",
       " [3, 9, 0, 2],\n",
       " [3, 9, 9, 4],\n",
       " [3, 9, 9, 0],\n",
       " [3, 9, 9, 9],\n",
       " [3, 9, 9, 7],\n",
       " [3, 9, 7, 0],\n",
       " [3, 9, 7, 1],\n",
       " [3, 9, 7, 3],\n",
       " [3, 9, 7, 0],\n",
       " [3, 2, 9, 4],\n",
       " [3, 2, 9, 0],\n",
       " [3, 2, 9, 9],\n",
       " [3, 2, 9, 7],\n",
       " [3, 2, 0, 3],\n",
       " [3, 2, 0, 2],\n",
       " [3, 2, 0, 5],\n",
       " [3, 2, 0, 2],\n",
       " [3, 2, 8, 2],\n",
       " [3, 2, 8, 4],\n",
       " [3, 2, 8, 5],\n",
       " [3, 2, 8, 3],\n",
       " [3, 2, 6, 8],\n",
       " [3, 2, 6, 8],\n",
       " [3, 2, 6, 0],\n",
       " [3, 2, 6, 0],\n",
       " [3, 7, 0, 3],\n",
       " [3, 7, 0, 2],\n",
       " [3, 7, 0, 5],\n",
       " [3, 7, 0, 2],\n",
       " [3, 7, 1, 8],\n",
       " [3, 7, 1, 5],\n",
       " [3, 7, 1, 4],\n",
       " [3, 7, 1, 2],\n",
       " [3, 7, 3, 9],\n",
       " [3, 7, 3, 2],\n",
       " [3, 7, 3, 7],\n",
       " [3, 7, 3, 1],\n",
       " [3, 7, 0, 3],\n",
       " [3, 7, 0, 2],\n",
       " [3, 7, 0, 5],\n",
       " [3, 7, 0, 2],\n",
       " [3, 1, 8, 2],\n",
       " [3, 1, 8, 4],\n",
       " [3, 1, 8, 5],\n",
       " [3, 1, 8, 3],\n",
       " [3, 1, 5, 8],\n",
       " [3, 1, 5, 1],\n",
       " [3, 1, 5, 1],\n",
       " [3, 1, 5, 6],\n",
       " [3, 1, 4, 1],\n",
       " [3, 1, 4, 9],\n",
       " [3, 1, 4, 2],\n",
       " [3, 1, 4, 3],\n",
       " [3, 1, 2, 9],\n",
       " [3, 1, 2, 0],\n",
       " [3, 1, 2, 8],\n",
       " [3, 1, 2, 6]]"
      ]
     },
     "execution_count": 128,
     "metadata": {},
     "output_type": "execute_result"
    }
   ],
   "source": [
    "import pandas as pd\n",
    "df = pd.DataFrame([\n",
    "    [3, 2, 5, 2],\n",
    "    [8, 5, 4, 2],\n",
    "    [9, 0, 8, 6],\n",
    "    [9, 2, 7, 1],\n",
    "    [1, 9, 2, 3],\n",
    "    [8, 1, 1, 6],\n",
    "    [8, 8, 0, 0],\n",
    "    [0, 1, 3, 0],\n",
    "    [2, 4, 5, 3],\n",
    "    [4, 0, 9, 7]\n",
    "])\n",
    "df\n",
    "\n",
    "done = list()\n",
    "todo = [[0], [3]]\n",
    "iter = 0\n",
    "while iter < 3:\n",
    "    print('new', iter, done, todo)\n",
    "    tomove = len(todo)\n",
    "    todo_ = todo.copy() #we copy \n",
    "    for el in todo_:\n",
    "        print('inside', el, el[-1], list(df.iloc[el[-1]]))\n",
    "        [todo.append(el+[x]) for x in list(df.iloc[el[-1]])]\n",
    "    done = done+todo[0:tomove]\n",
    "    todo = todo[tomove:]\n",
    "    iter += 1\n",
    "todo"
   ]
  },
  {
   "cell_type": "code",
   "execution_count": 135,
   "metadata": {},
   "outputs": [
    {
     "data": {
      "application/vnd.plotly.v1+json": {
       "config": {
        "plotlyServerURL": "https://plot.ly"
       },
       "data": [
        {
         "hovertemplate": "0=%{x}<br>1=%{y}<br>index=%{text}<extra></extra>",
         "legendgroup": "",
         "marker": {
          "color": "#636efa",
          "symbol": "circle"
         },
         "mode": "markers+text",
         "name": "",
         "orientation": "v",
         "showlegend": false,
         "text": [
          0,
          1,
          2,
          3,
          4,
          5,
          6,
          7,
          8,
          9,
          10,
          11,
          12,
          13,
          14,
          15,
          16,
          17,
          18,
          19
         ],
         "textfont": {
          "size": 22
         },
         "type": "scatter",
         "x": [
          0.7739560485559633,
          0.8585979199113825,
          0.09417734788764953,
          0.761139701990353,
          0.12811363267554587,
          0.37079802423258124,
          0.6438651200806645,
          0.44341419882733113,
          0.5545847870158348,
          0.8276311719925821,
          0.7580877400853738,
          0.9706980243949033,
          0.7783834970737619,
          0.4667210037270342,
          0.15428949206754783,
          0.7447621559078171,
          0.32582535813815194,
          0.4695558112758079,
          0.12992150533547164,
          0.2269093490508841
         ],
         "xaxis": "x",
         "y": [
          0.4388784397520523,
          0.6973680290593639,
          0.9756223516367559,
          0.7860643052769538,
          0.45038593789556713,
          0.9267649888486018,
          0.82276161327083,
          0.2272387217847769,
          0.06381725610417532,
          0.6316643991220648,
          0.35452596812986836,
          0.8931211213221977,
          0.19463870785196757,
          0.04380376578722878,
          0.6830489532424546,
          0.96750973243421,
          0.3704597060348689,
          0.1894713590842857,
          0.47570492622593374,
          0.6698139946825103
         ],
         "yaxis": "y"
        }
       ],
       "layout": {
        "legend": {
         "tracegroupgap": 0
        },
        "margin": {
         "t": 60
        },
        "template": {
         "data": {
          "bar": [
           {
            "error_x": {
             "color": "#2a3f5f"
            },
            "error_y": {
             "color": "#2a3f5f"
            },
            "marker": {
             "line": {
              "color": "#E5ECF6",
              "width": 0.5
             }
            },
            "type": "bar"
           }
          ],
          "barpolar": [
           {
            "marker": {
             "line": {
              "color": "#E5ECF6",
              "width": 0.5
             }
            },
            "type": "barpolar"
           }
          ],
          "carpet": [
           {
            "aaxis": {
             "endlinecolor": "#2a3f5f",
             "gridcolor": "white",
             "linecolor": "white",
             "minorgridcolor": "white",
             "startlinecolor": "#2a3f5f"
            },
            "baxis": {
             "endlinecolor": "#2a3f5f",
             "gridcolor": "white",
             "linecolor": "white",
             "minorgridcolor": "white",
             "startlinecolor": "#2a3f5f"
            },
            "type": "carpet"
           }
          ],
          "choropleth": [
           {
            "colorbar": {
             "outlinewidth": 0,
             "ticks": ""
            },
            "type": "choropleth"
           }
          ],
          "contour": [
           {
            "colorbar": {
             "outlinewidth": 0,
             "ticks": ""
            },
            "colorscale": [
             [
              0,
              "#0d0887"
             ],
             [
              0.1111111111111111,
              "#46039f"
             ],
             [
              0.2222222222222222,
              "#7201a8"
             ],
             [
              0.3333333333333333,
              "#9c179e"
             ],
             [
              0.4444444444444444,
              "#bd3786"
             ],
             [
              0.5555555555555556,
              "#d8576b"
             ],
             [
              0.6666666666666666,
              "#ed7953"
             ],
             [
              0.7777777777777778,
              "#fb9f3a"
             ],
             [
              0.8888888888888888,
              "#fdca26"
             ],
             [
              1,
              "#f0f921"
             ]
            ],
            "type": "contour"
           }
          ],
          "contourcarpet": [
           {
            "colorbar": {
             "outlinewidth": 0,
             "ticks": ""
            },
            "type": "contourcarpet"
           }
          ],
          "heatmap": [
           {
            "colorbar": {
             "outlinewidth": 0,
             "ticks": ""
            },
            "colorscale": [
             [
              0,
              "#0d0887"
             ],
             [
              0.1111111111111111,
              "#46039f"
             ],
             [
              0.2222222222222222,
              "#7201a8"
             ],
             [
              0.3333333333333333,
              "#9c179e"
             ],
             [
              0.4444444444444444,
              "#bd3786"
             ],
             [
              0.5555555555555556,
              "#d8576b"
             ],
             [
              0.6666666666666666,
              "#ed7953"
             ],
             [
              0.7777777777777778,
              "#fb9f3a"
             ],
             [
              0.8888888888888888,
              "#fdca26"
             ],
             [
              1,
              "#f0f921"
             ]
            ],
            "type": "heatmap"
           }
          ],
          "heatmapgl": [
           {
            "colorbar": {
             "outlinewidth": 0,
             "ticks": ""
            },
            "colorscale": [
             [
              0,
              "#0d0887"
             ],
             [
              0.1111111111111111,
              "#46039f"
             ],
             [
              0.2222222222222222,
              "#7201a8"
             ],
             [
              0.3333333333333333,
              "#9c179e"
             ],
             [
              0.4444444444444444,
              "#bd3786"
             ],
             [
              0.5555555555555556,
              "#d8576b"
             ],
             [
              0.6666666666666666,
              "#ed7953"
             ],
             [
              0.7777777777777778,
              "#fb9f3a"
             ],
             [
              0.8888888888888888,
              "#fdca26"
             ],
             [
              1,
              "#f0f921"
             ]
            ],
            "type": "heatmapgl"
           }
          ],
          "histogram": [
           {
            "marker": {
             "colorbar": {
              "outlinewidth": 0,
              "ticks": ""
             }
            },
            "type": "histogram"
           }
          ],
          "histogram2d": [
           {
            "colorbar": {
             "outlinewidth": 0,
             "ticks": ""
            },
            "colorscale": [
             [
              0,
              "#0d0887"
             ],
             [
              0.1111111111111111,
              "#46039f"
             ],
             [
              0.2222222222222222,
              "#7201a8"
             ],
             [
              0.3333333333333333,
              "#9c179e"
             ],
             [
              0.4444444444444444,
              "#bd3786"
             ],
             [
              0.5555555555555556,
              "#d8576b"
             ],
             [
              0.6666666666666666,
              "#ed7953"
             ],
             [
              0.7777777777777778,
              "#fb9f3a"
             ],
             [
              0.8888888888888888,
              "#fdca26"
             ],
             [
              1,
              "#f0f921"
             ]
            ],
            "type": "histogram2d"
           }
          ],
          "histogram2dcontour": [
           {
            "colorbar": {
             "outlinewidth": 0,
             "ticks": ""
            },
            "colorscale": [
             [
              0,
              "#0d0887"
             ],
             [
              0.1111111111111111,
              "#46039f"
             ],
             [
              0.2222222222222222,
              "#7201a8"
             ],
             [
              0.3333333333333333,
              "#9c179e"
             ],
             [
              0.4444444444444444,
              "#bd3786"
             ],
             [
              0.5555555555555556,
              "#d8576b"
             ],
             [
              0.6666666666666666,
              "#ed7953"
             ],
             [
              0.7777777777777778,
              "#fb9f3a"
             ],
             [
              0.8888888888888888,
              "#fdca26"
             ],
             [
              1,
              "#f0f921"
             ]
            ],
            "type": "histogram2dcontour"
           }
          ],
          "mesh3d": [
           {
            "colorbar": {
             "outlinewidth": 0,
             "ticks": ""
            },
            "type": "mesh3d"
           }
          ],
          "parcoords": [
           {
            "line": {
             "colorbar": {
              "outlinewidth": 0,
              "ticks": ""
             }
            },
            "type": "parcoords"
           }
          ],
          "pie": [
           {
            "automargin": true,
            "type": "pie"
           }
          ],
          "scatter": [
           {
            "marker": {
             "colorbar": {
              "outlinewidth": 0,
              "ticks": ""
             }
            },
            "type": "scatter"
           }
          ],
          "scatter3d": [
           {
            "line": {
             "colorbar": {
              "outlinewidth": 0,
              "ticks": ""
             }
            },
            "marker": {
             "colorbar": {
              "outlinewidth": 0,
              "ticks": ""
             }
            },
            "type": "scatter3d"
           }
          ],
          "scattercarpet": [
           {
            "marker": {
             "colorbar": {
              "outlinewidth": 0,
              "ticks": ""
             }
            },
            "type": "scattercarpet"
           }
          ],
          "scattergeo": [
           {
            "marker": {
             "colorbar": {
              "outlinewidth": 0,
              "ticks": ""
             }
            },
            "type": "scattergeo"
           }
          ],
          "scattergl": [
           {
            "marker": {
             "colorbar": {
              "outlinewidth": 0,
              "ticks": ""
             }
            },
            "type": "scattergl"
           }
          ],
          "scattermapbox": [
           {
            "marker": {
             "colorbar": {
              "outlinewidth": 0,
              "ticks": ""
             }
            },
            "type": "scattermapbox"
           }
          ],
          "scatterpolar": [
           {
            "marker": {
             "colorbar": {
              "outlinewidth": 0,
              "ticks": ""
             }
            },
            "type": "scatterpolar"
           }
          ],
          "scatterpolargl": [
           {
            "marker": {
             "colorbar": {
              "outlinewidth": 0,
              "ticks": ""
             }
            },
            "type": "scatterpolargl"
           }
          ],
          "scatterternary": [
           {
            "marker": {
             "colorbar": {
              "outlinewidth": 0,
              "ticks": ""
             }
            },
            "type": "scatterternary"
           }
          ],
          "surface": [
           {
            "colorbar": {
             "outlinewidth": 0,
             "ticks": ""
            },
            "colorscale": [
             [
              0,
              "#0d0887"
             ],
             [
              0.1111111111111111,
              "#46039f"
             ],
             [
              0.2222222222222222,
              "#7201a8"
             ],
             [
              0.3333333333333333,
              "#9c179e"
             ],
             [
              0.4444444444444444,
              "#bd3786"
             ],
             [
              0.5555555555555556,
              "#d8576b"
             ],
             [
              0.6666666666666666,
              "#ed7953"
             ],
             [
              0.7777777777777778,
              "#fb9f3a"
             ],
             [
              0.8888888888888888,
              "#fdca26"
             ],
             [
              1,
              "#f0f921"
             ]
            ],
            "type": "surface"
           }
          ],
          "table": [
           {
            "cells": {
             "fill": {
              "color": "#EBF0F8"
             },
             "line": {
              "color": "white"
             }
            },
            "header": {
             "fill": {
              "color": "#C8D4E3"
             },
             "line": {
              "color": "white"
             }
            },
            "type": "table"
           }
          ]
         },
         "layout": {
          "annotationdefaults": {
           "arrowcolor": "#2a3f5f",
           "arrowhead": 0,
           "arrowwidth": 1
          },
          "coloraxis": {
           "colorbar": {
            "outlinewidth": 0,
            "ticks": ""
           }
          },
          "colorscale": {
           "diverging": [
            [
             0,
             "#8e0152"
            ],
            [
             0.1,
             "#c51b7d"
            ],
            [
             0.2,
             "#de77ae"
            ],
            [
             0.3,
             "#f1b6da"
            ],
            [
             0.4,
             "#fde0ef"
            ],
            [
             0.5,
             "#f7f7f7"
            ],
            [
             0.6,
             "#e6f5d0"
            ],
            [
             0.7,
             "#b8e186"
            ],
            [
             0.8,
             "#7fbc41"
            ],
            [
             0.9,
             "#4d9221"
            ],
            [
             1,
             "#276419"
            ]
           ],
           "sequential": [
            [
             0,
             "#0d0887"
            ],
            [
             0.1111111111111111,
             "#46039f"
            ],
            [
             0.2222222222222222,
             "#7201a8"
            ],
            [
             0.3333333333333333,
             "#9c179e"
            ],
            [
             0.4444444444444444,
             "#bd3786"
            ],
            [
             0.5555555555555556,
             "#d8576b"
            ],
            [
             0.6666666666666666,
             "#ed7953"
            ],
            [
             0.7777777777777778,
             "#fb9f3a"
            ],
            [
             0.8888888888888888,
             "#fdca26"
            ],
            [
             1,
             "#f0f921"
            ]
           ],
           "sequentialminus": [
            [
             0,
             "#0d0887"
            ],
            [
             0.1111111111111111,
             "#46039f"
            ],
            [
             0.2222222222222222,
             "#7201a8"
            ],
            [
             0.3333333333333333,
             "#9c179e"
            ],
            [
             0.4444444444444444,
             "#bd3786"
            ],
            [
             0.5555555555555556,
             "#d8576b"
            ],
            [
             0.6666666666666666,
             "#ed7953"
            ],
            [
             0.7777777777777778,
             "#fb9f3a"
            ],
            [
             0.8888888888888888,
             "#fdca26"
            ],
            [
             1,
             "#f0f921"
            ]
           ]
          },
          "colorway": [
           "#636efa",
           "#EF553B",
           "#00cc96",
           "#ab63fa",
           "#FFA15A",
           "#19d3f3",
           "#FF6692",
           "#B6E880",
           "#FF97FF",
           "#FECB52"
          ],
          "font": {
           "color": "#2a3f5f"
          },
          "geo": {
           "bgcolor": "white",
           "lakecolor": "white",
           "landcolor": "#E5ECF6",
           "showlakes": true,
           "showland": true,
           "subunitcolor": "white"
          },
          "hoverlabel": {
           "align": "left"
          },
          "hovermode": "closest",
          "mapbox": {
           "style": "light"
          },
          "paper_bgcolor": "white",
          "plot_bgcolor": "#E5ECF6",
          "polar": {
           "angularaxis": {
            "gridcolor": "white",
            "linecolor": "white",
            "ticks": ""
           },
           "bgcolor": "#E5ECF6",
           "radialaxis": {
            "gridcolor": "white",
            "linecolor": "white",
            "ticks": ""
           }
          },
          "scene": {
           "xaxis": {
            "backgroundcolor": "#E5ECF6",
            "gridcolor": "white",
            "gridwidth": 2,
            "linecolor": "white",
            "showbackground": true,
            "ticks": "",
            "zerolinecolor": "white"
           },
           "yaxis": {
            "backgroundcolor": "#E5ECF6",
            "gridcolor": "white",
            "gridwidth": 2,
            "linecolor": "white",
            "showbackground": true,
            "ticks": "",
            "zerolinecolor": "white"
           },
           "zaxis": {
            "backgroundcolor": "#E5ECF6",
            "gridcolor": "white",
            "gridwidth": 2,
            "linecolor": "white",
            "showbackground": true,
            "ticks": "",
            "zerolinecolor": "white"
           }
          },
          "shapedefaults": {
           "line": {
            "color": "#2a3f5f"
           }
          },
          "ternary": {
           "aaxis": {
            "gridcolor": "white",
            "linecolor": "white",
            "ticks": ""
           },
           "baxis": {
            "gridcolor": "white",
            "linecolor": "white",
            "ticks": ""
           },
           "bgcolor": "#E5ECF6",
           "caxis": {
            "gridcolor": "white",
            "linecolor": "white",
            "ticks": ""
           }
          },
          "title": {
           "x": 0.05
          },
          "xaxis": {
           "automargin": true,
           "gridcolor": "white",
           "linecolor": "white",
           "ticks": "",
           "title": {
            "standoff": 15
           },
           "zerolinecolor": "white",
           "zerolinewidth": 2
          },
          "yaxis": {
           "automargin": true,
           "gridcolor": "white",
           "linecolor": "white",
           "ticks": "",
           "title": {
            "standoff": 15
           },
           "zerolinecolor": "white",
           "zerolinewidth": 2
          }
         }
        },
        "xaxis": {
         "anchor": "y",
         "domain": [
          0,
          1
         ],
         "title": {
          "text": "0"
         }
        },
        "yaxis": {
         "anchor": "x",
         "domain": [
          0,
          1
         ],
         "title": {
          "text": "1"
         }
        }
       }
      }
     },
     "metadata": {},
     "output_type": "display_data"
    }
   ],
   "source": [
    "from sklearn.decomposition import PCA\n",
    "import matplotlib.pyplot as plt\n",
    "import plotly.express as px\n",
    "\n",
    "def nns(df, n_neighbors, point, Verbose=False, avoid_repetition=False):\n",
    "    nbrs = NearestNeighbors(n_neighbors=n_neighbors+1, algorithm='ball_tree').fit(df)\n",
    "    distances, indices = nbrs.kneighbors([point])\n",
    "    indices = indices[0][1:]\n",
    "    if avoid_repetition == True:\n",
    "        knn = list()\n",
    "        if len(indices)>0:\n",
    "            for nn in indices:\n",
    "                if nn not in extracted:\n",
    "                    knn.append(nn)\n",
    "                    extracted.append(nn)\n",
    "                else:\n",
    "                    if Verbose==True:\n",
    "                        print('not appending', nn)\n",
    "        return knn\n",
    "    else:\n",
    "        return indices\n",
    "\n",
    "def show_df(df):\n",
    "    fig = px.scatter(df, x=0, y=1, text=df.index)\n",
    "    fig.update_traces(textfont_size=22)\n",
    "    fig.show()\n",
    "\n",
    "import numpy as np\n",
    "rng = np.random.default_rng(seed=42)\n",
    "df = pd.DataFrame(rng.random((20, 2)))\n",
    "show_df(df)"
   ]
  },
  {
   "cell_type": "code",
   "execution_count": 112,
   "metadata": {},
   "outputs": [
    {
     "name": "stdout",
     "output_type": "stream",
     "text": [
      "[3, 1]\n",
      "[9]\n",
      "[0]\n"
     ]
    }
   ],
   "source": [
    "from sklearn.neighbors import NearestNeighbors\n",
    "import numpy as np\n",
    "import pandas as pd\n",
    "\n",
    "extracted = list()\n",
    "print(nns(df, 2, df.iloc[6], False))\n",
    "print(nns(df, 2, df.iloc[0], False))\n",
    "print(nns(df, 3, df.iloc[9], False))"
   ]
  },
  {
   "cell_type": "code",
   "execution_count": 137,
   "metadata": {},
   "outputs": [
    {
     "data": {
      "application/vnd.plotly.v1+json": {
       "config": {
        "plotlyServerURL": "https://plot.ly"
       },
       "data": [
        {
         "hovertemplate": "0=%{x}<br>1=%{y}<br>index=%{text}<extra></extra>",
         "legendgroup": "",
         "marker": {
          "color": "#636efa",
          "symbol": "circle"
         },
         "mode": "markers+text",
         "name": "",
         "orientation": "v",
         "showlegend": false,
         "text": [
          0,
          1,
          2,
          3,
          4,
          5,
          6,
          7,
          8,
          9,
          10,
          11,
          12,
          13,
          14,
          15,
          16,
          17,
          18,
          19
         ],
         "textfont": {
          "size": 22
         },
         "type": "scatter",
         "x": [
          0.7739560485559633,
          0.8585979199113825,
          0.09417734788764953,
          0.761139701990353,
          0.12811363267554587,
          0.37079802423258124,
          0.6438651200806645,
          0.44341419882733113,
          0.5545847870158348,
          0.8276311719925821,
          0.7580877400853738,
          0.9706980243949033,
          0.7783834970737619,
          0.4667210037270342,
          0.15428949206754783,
          0.7447621559078171,
          0.32582535813815194,
          0.4695558112758079,
          0.12992150533547164,
          0.2269093490508841
         ],
         "xaxis": "x",
         "y": [
          0.4388784397520523,
          0.6973680290593639,
          0.9756223516367559,
          0.7860643052769538,
          0.45038593789556713,
          0.9267649888486018,
          0.82276161327083,
          0.2272387217847769,
          0.06381725610417532,
          0.6316643991220648,
          0.35452596812986836,
          0.8931211213221977,
          0.19463870785196757,
          0.04380376578722878,
          0.6830489532424546,
          0.96750973243421,
          0.3704597060348689,
          0.1894713590842857,
          0.47570492622593374,
          0.6698139946825103
         ],
         "yaxis": "y"
        }
       ],
       "layout": {
        "legend": {
         "tracegroupgap": 0
        },
        "margin": {
         "t": 60
        },
        "template": {
         "data": {
          "bar": [
           {
            "error_x": {
             "color": "#2a3f5f"
            },
            "error_y": {
             "color": "#2a3f5f"
            },
            "marker": {
             "line": {
              "color": "#E5ECF6",
              "width": 0.5
             }
            },
            "type": "bar"
           }
          ],
          "barpolar": [
           {
            "marker": {
             "line": {
              "color": "#E5ECF6",
              "width": 0.5
             }
            },
            "type": "barpolar"
           }
          ],
          "carpet": [
           {
            "aaxis": {
             "endlinecolor": "#2a3f5f",
             "gridcolor": "white",
             "linecolor": "white",
             "minorgridcolor": "white",
             "startlinecolor": "#2a3f5f"
            },
            "baxis": {
             "endlinecolor": "#2a3f5f",
             "gridcolor": "white",
             "linecolor": "white",
             "minorgridcolor": "white",
             "startlinecolor": "#2a3f5f"
            },
            "type": "carpet"
           }
          ],
          "choropleth": [
           {
            "colorbar": {
             "outlinewidth": 0,
             "ticks": ""
            },
            "type": "choropleth"
           }
          ],
          "contour": [
           {
            "colorbar": {
             "outlinewidth": 0,
             "ticks": ""
            },
            "colorscale": [
             [
              0,
              "#0d0887"
             ],
             [
              0.1111111111111111,
              "#46039f"
             ],
             [
              0.2222222222222222,
              "#7201a8"
             ],
             [
              0.3333333333333333,
              "#9c179e"
             ],
             [
              0.4444444444444444,
              "#bd3786"
             ],
             [
              0.5555555555555556,
              "#d8576b"
             ],
             [
              0.6666666666666666,
              "#ed7953"
             ],
             [
              0.7777777777777778,
              "#fb9f3a"
             ],
             [
              0.8888888888888888,
              "#fdca26"
             ],
             [
              1,
              "#f0f921"
             ]
            ],
            "type": "contour"
           }
          ],
          "contourcarpet": [
           {
            "colorbar": {
             "outlinewidth": 0,
             "ticks": ""
            },
            "type": "contourcarpet"
           }
          ],
          "heatmap": [
           {
            "colorbar": {
             "outlinewidth": 0,
             "ticks": ""
            },
            "colorscale": [
             [
              0,
              "#0d0887"
             ],
             [
              0.1111111111111111,
              "#46039f"
             ],
             [
              0.2222222222222222,
              "#7201a8"
             ],
             [
              0.3333333333333333,
              "#9c179e"
             ],
             [
              0.4444444444444444,
              "#bd3786"
             ],
             [
              0.5555555555555556,
              "#d8576b"
             ],
             [
              0.6666666666666666,
              "#ed7953"
             ],
             [
              0.7777777777777778,
              "#fb9f3a"
             ],
             [
              0.8888888888888888,
              "#fdca26"
             ],
             [
              1,
              "#f0f921"
             ]
            ],
            "type": "heatmap"
           }
          ],
          "heatmapgl": [
           {
            "colorbar": {
             "outlinewidth": 0,
             "ticks": ""
            },
            "colorscale": [
             [
              0,
              "#0d0887"
             ],
             [
              0.1111111111111111,
              "#46039f"
             ],
             [
              0.2222222222222222,
              "#7201a8"
             ],
             [
              0.3333333333333333,
              "#9c179e"
             ],
             [
              0.4444444444444444,
              "#bd3786"
             ],
             [
              0.5555555555555556,
              "#d8576b"
             ],
             [
              0.6666666666666666,
              "#ed7953"
             ],
             [
              0.7777777777777778,
              "#fb9f3a"
             ],
             [
              0.8888888888888888,
              "#fdca26"
             ],
             [
              1,
              "#f0f921"
             ]
            ],
            "type": "heatmapgl"
           }
          ],
          "histogram": [
           {
            "marker": {
             "colorbar": {
              "outlinewidth": 0,
              "ticks": ""
             }
            },
            "type": "histogram"
           }
          ],
          "histogram2d": [
           {
            "colorbar": {
             "outlinewidth": 0,
             "ticks": ""
            },
            "colorscale": [
             [
              0,
              "#0d0887"
             ],
             [
              0.1111111111111111,
              "#46039f"
             ],
             [
              0.2222222222222222,
              "#7201a8"
             ],
             [
              0.3333333333333333,
              "#9c179e"
             ],
             [
              0.4444444444444444,
              "#bd3786"
             ],
             [
              0.5555555555555556,
              "#d8576b"
             ],
             [
              0.6666666666666666,
              "#ed7953"
             ],
             [
              0.7777777777777778,
              "#fb9f3a"
             ],
             [
              0.8888888888888888,
              "#fdca26"
             ],
             [
              1,
              "#f0f921"
             ]
            ],
            "type": "histogram2d"
           }
          ],
          "histogram2dcontour": [
           {
            "colorbar": {
             "outlinewidth": 0,
             "ticks": ""
            },
            "colorscale": [
             [
              0,
              "#0d0887"
             ],
             [
              0.1111111111111111,
              "#46039f"
             ],
             [
              0.2222222222222222,
              "#7201a8"
             ],
             [
              0.3333333333333333,
              "#9c179e"
             ],
             [
              0.4444444444444444,
              "#bd3786"
             ],
             [
              0.5555555555555556,
              "#d8576b"
             ],
             [
              0.6666666666666666,
              "#ed7953"
             ],
             [
              0.7777777777777778,
              "#fb9f3a"
             ],
             [
              0.8888888888888888,
              "#fdca26"
             ],
             [
              1,
              "#f0f921"
             ]
            ],
            "type": "histogram2dcontour"
           }
          ],
          "mesh3d": [
           {
            "colorbar": {
             "outlinewidth": 0,
             "ticks": ""
            },
            "type": "mesh3d"
           }
          ],
          "parcoords": [
           {
            "line": {
             "colorbar": {
              "outlinewidth": 0,
              "ticks": ""
             }
            },
            "type": "parcoords"
           }
          ],
          "pie": [
           {
            "automargin": true,
            "type": "pie"
           }
          ],
          "scatter": [
           {
            "marker": {
             "colorbar": {
              "outlinewidth": 0,
              "ticks": ""
             }
            },
            "type": "scatter"
           }
          ],
          "scatter3d": [
           {
            "line": {
             "colorbar": {
              "outlinewidth": 0,
              "ticks": ""
             }
            },
            "marker": {
             "colorbar": {
              "outlinewidth": 0,
              "ticks": ""
             }
            },
            "type": "scatter3d"
           }
          ],
          "scattercarpet": [
           {
            "marker": {
             "colorbar": {
              "outlinewidth": 0,
              "ticks": ""
             }
            },
            "type": "scattercarpet"
           }
          ],
          "scattergeo": [
           {
            "marker": {
             "colorbar": {
              "outlinewidth": 0,
              "ticks": ""
             }
            },
            "type": "scattergeo"
           }
          ],
          "scattergl": [
           {
            "marker": {
             "colorbar": {
              "outlinewidth": 0,
              "ticks": ""
             }
            },
            "type": "scattergl"
           }
          ],
          "scattermapbox": [
           {
            "marker": {
             "colorbar": {
              "outlinewidth": 0,
              "ticks": ""
             }
            },
            "type": "scattermapbox"
           }
          ],
          "scatterpolar": [
           {
            "marker": {
             "colorbar": {
              "outlinewidth": 0,
              "ticks": ""
             }
            },
            "type": "scatterpolar"
           }
          ],
          "scatterpolargl": [
           {
            "marker": {
             "colorbar": {
              "outlinewidth": 0,
              "ticks": ""
             }
            },
            "type": "scatterpolargl"
           }
          ],
          "scatterternary": [
           {
            "marker": {
             "colorbar": {
              "outlinewidth": 0,
              "ticks": ""
             }
            },
            "type": "scatterternary"
           }
          ],
          "surface": [
           {
            "colorbar": {
             "outlinewidth": 0,
             "ticks": ""
            },
            "colorscale": [
             [
              0,
              "#0d0887"
             ],
             [
              0.1111111111111111,
              "#46039f"
             ],
             [
              0.2222222222222222,
              "#7201a8"
             ],
             [
              0.3333333333333333,
              "#9c179e"
             ],
             [
              0.4444444444444444,
              "#bd3786"
             ],
             [
              0.5555555555555556,
              "#d8576b"
             ],
             [
              0.6666666666666666,
              "#ed7953"
             ],
             [
              0.7777777777777778,
              "#fb9f3a"
             ],
             [
              0.8888888888888888,
              "#fdca26"
             ],
             [
              1,
              "#f0f921"
             ]
            ],
            "type": "surface"
           }
          ],
          "table": [
           {
            "cells": {
             "fill": {
              "color": "#EBF0F8"
             },
             "line": {
              "color": "white"
             }
            },
            "header": {
             "fill": {
              "color": "#C8D4E3"
             },
             "line": {
              "color": "white"
             }
            },
            "type": "table"
           }
          ]
         },
         "layout": {
          "annotationdefaults": {
           "arrowcolor": "#2a3f5f",
           "arrowhead": 0,
           "arrowwidth": 1
          },
          "coloraxis": {
           "colorbar": {
            "outlinewidth": 0,
            "ticks": ""
           }
          },
          "colorscale": {
           "diverging": [
            [
             0,
             "#8e0152"
            ],
            [
             0.1,
             "#c51b7d"
            ],
            [
             0.2,
             "#de77ae"
            ],
            [
             0.3,
             "#f1b6da"
            ],
            [
             0.4,
             "#fde0ef"
            ],
            [
             0.5,
             "#f7f7f7"
            ],
            [
             0.6,
             "#e6f5d0"
            ],
            [
             0.7,
             "#b8e186"
            ],
            [
             0.8,
             "#7fbc41"
            ],
            [
             0.9,
             "#4d9221"
            ],
            [
             1,
             "#276419"
            ]
           ],
           "sequential": [
            [
             0,
             "#0d0887"
            ],
            [
             0.1111111111111111,
             "#46039f"
            ],
            [
             0.2222222222222222,
             "#7201a8"
            ],
            [
             0.3333333333333333,
             "#9c179e"
            ],
            [
             0.4444444444444444,
             "#bd3786"
            ],
            [
             0.5555555555555556,
             "#d8576b"
            ],
            [
             0.6666666666666666,
             "#ed7953"
            ],
            [
             0.7777777777777778,
             "#fb9f3a"
            ],
            [
             0.8888888888888888,
             "#fdca26"
            ],
            [
             1,
             "#f0f921"
            ]
           ],
           "sequentialminus": [
            [
             0,
             "#0d0887"
            ],
            [
             0.1111111111111111,
             "#46039f"
            ],
            [
             0.2222222222222222,
             "#7201a8"
            ],
            [
             0.3333333333333333,
             "#9c179e"
            ],
            [
             0.4444444444444444,
             "#bd3786"
            ],
            [
             0.5555555555555556,
             "#d8576b"
            ],
            [
             0.6666666666666666,
             "#ed7953"
            ],
            [
             0.7777777777777778,
             "#fb9f3a"
            ],
            [
             0.8888888888888888,
             "#fdca26"
            ],
            [
             1,
             "#f0f921"
            ]
           ]
          },
          "colorway": [
           "#636efa",
           "#EF553B",
           "#00cc96",
           "#ab63fa",
           "#FFA15A",
           "#19d3f3",
           "#FF6692",
           "#B6E880",
           "#FF97FF",
           "#FECB52"
          ],
          "font": {
           "color": "#2a3f5f"
          },
          "geo": {
           "bgcolor": "white",
           "lakecolor": "white",
           "landcolor": "#E5ECF6",
           "showlakes": true,
           "showland": true,
           "subunitcolor": "white"
          },
          "hoverlabel": {
           "align": "left"
          },
          "hovermode": "closest",
          "mapbox": {
           "style": "light"
          },
          "paper_bgcolor": "white",
          "plot_bgcolor": "#E5ECF6",
          "polar": {
           "angularaxis": {
            "gridcolor": "white",
            "linecolor": "white",
            "ticks": ""
           },
           "bgcolor": "#E5ECF6",
           "radialaxis": {
            "gridcolor": "white",
            "linecolor": "white",
            "ticks": ""
           }
          },
          "scene": {
           "xaxis": {
            "backgroundcolor": "#E5ECF6",
            "gridcolor": "white",
            "gridwidth": 2,
            "linecolor": "white",
            "showbackground": true,
            "ticks": "",
            "zerolinecolor": "white"
           },
           "yaxis": {
            "backgroundcolor": "#E5ECF6",
            "gridcolor": "white",
            "gridwidth": 2,
            "linecolor": "white",
            "showbackground": true,
            "ticks": "",
            "zerolinecolor": "white"
           },
           "zaxis": {
            "backgroundcolor": "#E5ECF6",
            "gridcolor": "white",
            "gridwidth": 2,
            "linecolor": "white",
            "showbackground": true,
            "ticks": "",
            "zerolinecolor": "white"
           }
          },
          "shapedefaults": {
           "line": {
            "color": "#2a3f5f"
           }
          },
          "ternary": {
           "aaxis": {
            "gridcolor": "white",
            "linecolor": "white",
            "ticks": ""
           },
           "baxis": {
            "gridcolor": "white",
            "linecolor": "white",
            "ticks": ""
           },
           "bgcolor": "#E5ECF6",
           "caxis": {
            "gridcolor": "white",
            "linecolor": "white",
            "ticks": ""
           }
          },
          "title": {
           "x": 0.05
          },
          "xaxis": {
           "automargin": true,
           "gridcolor": "white",
           "linecolor": "white",
           "ticks": "",
           "title": {
            "standoff": 15
           },
           "zerolinecolor": "white",
           "zerolinewidth": 2
          },
          "yaxis": {
           "automargin": true,
           "gridcolor": "white",
           "linecolor": "white",
           "ticks": "",
           "title": {
            "standoff": 15
           },
           "zerolinecolor": "white",
           "zerolinewidth": 2
          }
         }
        },
        "xaxis": {
         "anchor": "y",
         "domain": [
          0,
          1
         ],
         "title": {
          "text": "0"
         }
        },
        "yaxis": {
         "anchor": "x",
         "domain": [
          0,
          1
         ],
         "title": {
          "text": "1"
         }
        }
       }
      }
     },
     "metadata": {},
     "output_type": "display_data"
    }
   ],
   "source": [
    "show_df(df)"
   ]
  },
  {
   "cell_type": "code",
   "execution_count": 136,
   "metadata": {},
   "outputs": [
    {
     "name": "stdout",
     "output_type": "stream",
     "text": [
      "new 0 [] [[0]]\n",
      "inside [0] 0 [10  9 12]\n",
      "new 1 [[0]] [[0, 10], [0, 9], [0, 12]]\n",
      "inside [0, 10] 10 [ 0 12  9]\n",
      "not appending 0\n",
      "not appending 12\n",
      "not appending 9\n",
      "inside [0, 9] 9 [1 3 0]\n",
      "not appending 0\n",
      "inside [0, 12] 12 [10  0  8]\n",
      "not appending 10\n",
      "not appending 0\n",
      "new 2 [[0], [0, 10], [0, 9], [0, 12]] [[0, 9, 1], [0, 9, 3], [0, 12, 8]]\n",
      "inside [0, 9, 1] 1 [ 9  3 11]\n",
      "not appending 9\n",
      "not appending 3\n",
      "inside [0, 9, 3] 3 [6 1 9]\n",
      "not appending 1\n",
      "not appending 9\n",
      "inside [0, 12, 8] 8 [13 17  7]\n"
     ]
    },
    {
     "data": {
      "text/plain": [
       "[[0], [0, 10], [0, 9], [0, 12], [0, 9, 1], [0, 9, 3], [0, 12, 8]]"
      ]
     },
     "execution_count": 136,
     "metadata": {},
     "output_type": "execute_result"
    }
   ],
   "source": [
    "extracted = [0]\n",
    "done = list()\n",
    "todo = [[0]]\n",
    "iter = 0\n",
    "while iter < 3:\n",
    "    print('new', iter, done, todo)\n",
    "    tomove = len(todo)\n",
    "    todo_ = todo.copy() #we copy \n",
    "    for el in todo_:\n",
    "        print('inside', el, el[-1], nns(df, 3, df.iloc[el[-1]], Verbose=True, avoid_repetition=False))\n",
    "        [todo.append(el+[x]) for x in nns(df, 3, df.iloc[el[-1]], Verbose=True, avoid_repetition=True)]\n",
    "    done = done+todo[0:tomove]\n",
    "    todo = todo[tomove:]\n",
    "    iter += 1\n",
    "done"
   ]
  }
 ],
 "metadata": {
  "interpreter": {
   "hash": "75a300ae82dd7b8f387c1777b66b2ec8c7a5f6d51d6392630ee9b10fab7f95f8"
  },
  "kernelspec": {
   "display_name": "Python 3.9.0 64-bit",
   "language": "python",
   "name": "python3"
  },
  "language_info": {
   "codemirror_mode": {
    "name": "ipython",
    "version": 3
   },
   "file_extension": ".py",
   "mimetype": "text/x-python",
   "name": "python",
   "nbconvert_exporter": "python",
   "pygments_lexer": "ipython3",
   "version": "3.9.0"
  },
  "orig_nbformat": 4
 },
 "nbformat": 4,
 "nbformat_minor": 2
}
