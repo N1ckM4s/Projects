{
 "cells": [
  {
   "cell_type": "markdown",
   "metadata": {},
   "source": [
    "# numerical sequence"
   ]
  },
  {
   "cell_type": "markdown",
   "metadata": {},
   "source": [
    "## naive recursion"
   ]
  },
  {
   "cell_type": "code",
   "execution_count": null,
   "metadata": {},
   "outputs": [],
   "source": [
    "#\n",
    "def fibonacci(n):\n",
    "    if n == 1:\n",
    "        return 0\n",
    "    if n == 2:\n",
    "        return 1\n",
    "    return fibonacci(n-1)+fibonacci(n-2)\n",
    "print(1, fibonacci(0))\n",
    "\n",
    "#\n",
    "def fib_to(n):\n",
    "    fibs = [0, 1]\n",
    "    for i in range(2, n+1):\n",
    "        fibs.append(fibs[-1] + fibs[-2])\n",
    "    return fibs\n",
    "print(2, fib_to(6-1))\n",
    "\n",
    "#\n",
    "FibArray = [0, 1]\n",
    "def fibonacci(n):\n",
    "    if n <= len(FibArray):\n",
    "        return FibArray[n - 1]\n",
    "    else:\n",
    "        temp_fib = fibonacci(n - 1) + fibonacci(n - 2)\n",
    "        FibArray.append(temp_fib)\n",
    "        return temp_fib\n",
    "print(3, fibonacci(6))"
   ]
  },
  {
   "cell_type": "markdown",
   "metadata": {},
   "source": [
    "# nested safes"
   ]
  },
  {
   "cell_type": "code",
   "execution_count": 79,
   "metadata": {},
   "outputs": [
    {
     "data": {
      "text/plain": [
       "array([[0, 0, 5, 2],\n",
       "       [8, 5, 4, 2],\n",
       "       [9, 0, 8, 6],\n",
       "       [9, 2, 7, 1],\n",
       "       [1, 9, 2, 3],\n",
       "       [8, 1, 1, 6],\n",
       "       [8, 8, 0, 0],\n",
       "       [0, 1, 3, 0],\n",
       "       [2, 4, 5, 3],\n",
       "       [4, 0, 9, 7]])"
      ]
     },
     "execution_count": 79,
     "metadata": {},
     "output_type": "execute_result"
    }
   ],
   "source": [
    "import pandas as pd\n",
    "import numpy as np\n",
    "\n",
    "df = pd.DataFrame(np.random.randint(0, 10, size=(10, 4)), columns=list('ABCD'))\n",
    "df.values"
   ]
  },
  {
   "cell_type": "code",
   "execution_count": 85,
   "metadata": {},
   "outputs": [
    {
     "data": {
      "text/html": [
       "<div>\n",
       "<style scoped>\n",
       "    .dataframe tbody tr th:only-of-type {\n",
       "        vertical-align: middle;\n",
       "    }\n",
       "\n",
       "    .dataframe tbody tr th {\n",
       "        vertical-align: top;\n",
       "    }\n",
       "\n",
       "    .dataframe thead th {\n",
       "        text-align: right;\n",
       "    }\n",
       "</style>\n",
       "<table border=\"1\" class=\"dataframe\">\n",
       "  <thead>\n",
       "    <tr style=\"text-align: right;\">\n",
       "      <th></th>\n",
       "      <th>0</th>\n",
       "      <th>1</th>\n",
       "      <th>2</th>\n",
       "      <th>3</th>\n",
       "    </tr>\n",
       "  </thead>\n",
       "  <tbody>\n",
       "    <tr>\n",
       "      <th>0</th>\n",
       "      <td>3</td>\n",
       "      <td>2</td>\n",
       "      <td>5</td>\n",
       "      <td>2</td>\n",
       "    </tr>\n",
       "    <tr>\n",
       "      <th>1</th>\n",
       "      <td>8</td>\n",
       "      <td>5</td>\n",
       "      <td>4</td>\n",
       "      <td>2</td>\n",
       "    </tr>\n",
       "    <tr>\n",
       "      <th>2</th>\n",
       "      <td>9</td>\n",
       "      <td>0</td>\n",
       "      <td>8</td>\n",
       "      <td>6</td>\n",
       "    </tr>\n",
       "    <tr>\n",
       "      <th>3</th>\n",
       "      <td>9</td>\n",
       "      <td>2</td>\n",
       "      <td>7</td>\n",
       "      <td>1</td>\n",
       "    </tr>\n",
       "    <tr>\n",
       "      <th>4</th>\n",
       "      <td>1</td>\n",
       "      <td>9</td>\n",
       "      <td>2</td>\n",
       "      <td>3</td>\n",
       "    </tr>\n",
       "    <tr>\n",
       "      <th>5</th>\n",
       "      <td>8</td>\n",
       "      <td>1</td>\n",
       "      <td>1</td>\n",
       "      <td>6</td>\n",
       "    </tr>\n",
       "    <tr>\n",
       "      <th>6</th>\n",
       "      <td>8</td>\n",
       "      <td>8</td>\n",
       "      <td>0</td>\n",
       "      <td>0</td>\n",
       "    </tr>\n",
       "    <tr>\n",
       "      <th>7</th>\n",
       "      <td>0</td>\n",
       "      <td>1</td>\n",
       "      <td>3</td>\n",
       "      <td>0</td>\n",
       "    </tr>\n",
       "    <tr>\n",
       "      <th>8</th>\n",
       "      <td>2</td>\n",
       "      <td>4</td>\n",
       "      <td>5</td>\n",
       "      <td>3</td>\n",
       "    </tr>\n",
       "    <tr>\n",
       "      <th>9</th>\n",
       "      <td>4</td>\n",
       "      <td>0</td>\n",
       "      <td>9</td>\n",
       "      <td>7</td>\n",
       "    </tr>\n",
       "  </tbody>\n",
       "</table>\n",
       "</div>"
      ],
      "text/plain": [
       "   0  1  2  3\n",
       "0  3  2  5  2\n",
       "1  8  5  4  2\n",
       "2  9  0  8  6\n",
       "3  9  2  7  1\n",
       "4  1  9  2  3\n",
       "5  8  1  1  6\n",
       "6  8  8  0  0\n",
       "7  0  1  3  0\n",
       "8  2  4  5  3\n",
       "9  4  0  9  7"
      ]
     },
     "execution_count": 85,
     "metadata": {},
     "output_type": "execute_result"
    }
   ],
   "source": [
    "df = pd.DataFrame([\n",
    "    [3, 2, 5, 2],\n",
    "    [8, 5, 4, 2],\n",
    "    [9, 0, 8, 6],\n",
    "    [9, 2, 7, 1],\n",
    "    [1, 9, 2, 3],\n",
    "    [8, 1, 1, 6],\n",
    "    [8, 8, 0, 0],\n",
    "    [0, 1, 3, 0],\n",
    "    [2, 4, 5, 3],\n",
    "    [4, 0, 9, 7]\n",
    "])\n",
    "df"
   ]
  },
  {
   "cell_type": "code",
   "execution_count": null,
   "metadata": {},
   "outputs": [],
   "source": [
    "#PERFECT CASE STUDY\n",
    "def rec(list1, n, iter):\n",
    "    a = df.iloc[n].to_list()\n",
    "\n",
    "    if iter == 3:\n",
    "        return 0\n",
    "\n",
    "    list1.append(n)\n",
    "    print(list1)\n",
    "\n",
    "    for subn in a:\n",
    "        rec(list1, subn, iter+1)\n",
    "\n",
    "rec([], 0, 0)"
   ]
  },
  {
   "cell_type": "code",
   "execution_count": 95,
   "metadata": {},
   "outputs": [
    {
     "data": {
      "text/plain": [
       "array([3, 2, 5, 2], dtype=int64)"
      ]
     },
     "execution_count": 95,
     "metadata": {},
     "output_type": "execute_result"
    }
   ],
   "source": [
    "df.values[0]"
   ]
  },
  {
   "cell_type": "code",
   "execution_count": 101,
   "metadata": {},
   "outputs": [
    {
     "data": {
      "text/plain": [
       "array([3, 2, 5, 2], dtype=int64)"
      ]
     },
     "execution_count": 101,
     "metadata": {},
     "output_type": "execute_result"
    }
   ],
   "source": [
    "df.values[0]"
   ]
  },
  {
   "cell_type": "code",
   "execution_count": 107,
   "metadata": {},
   "outputs": [
    {
     "data": {
      "text/html": [
       "<div>\n",
       "<style scoped>\n",
       "    .dataframe tbody tr th:only-of-type {\n",
       "        vertical-align: middle;\n",
       "    }\n",
       "\n",
       "    .dataframe tbody tr th {\n",
       "        vertical-align: top;\n",
       "    }\n",
       "\n",
       "    .dataframe thead th {\n",
       "        text-align: right;\n",
       "    }\n",
       "</style>\n",
       "<table border=\"1\" class=\"dataframe\">\n",
       "  <thead>\n",
       "    <tr style=\"text-align: right;\">\n",
       "      <th></th>\n",
       "      <th>0</th>\n",
       "      <th>1</th>\n",
       "      <th>2</th>\n",
       "      <th>3</th>\n",
       "    </tr>\n",
       "  </thead>\n",
       "  <tbody>\n",
       "    <tr>\n",
       "      <th>0</th>\n",
       "      <td>3</td>\n",
       "      <td>2</td>\n",
       "      <td>5</td>\n",
       "      <td>2</td>\n",
       "    </tr>\n",
       "    <tr>\n",
       "      <th>1</th>\n",
       "      <td>8</td>\n",
       "      <td>5</td>\n",
       "      <td>4</td>\n",
       "      <td>2</td>\n",
       "    </tr>\n",
       "    <tr>\n",
       "      <th>2</th>\n",
       "      <td>9</td>\n",
       "      <td>0</td>\n",
       "      <td>8</td>\n",
       "      <td>6</td>\n",
       "    </tr>\n",
       "    <tr>\n",
       "      <th>3</th>\n",
       "      <td>9</td>\n",
       "      <td>2</td>\n",
       "      <td>7</td>\n",
       "      <td>1</td>\n",
       "    </tr>\n",
       "    <tr>\n",
       "      <th>4</th>\n",
       "      <td>1</td>\n",
       "      <td>9</td>\n",
       "      <td>2</td>\n",
       "      <td>3</td>\n",
       "    </tr>\n",
       "    <tr>\n",
       "      <th>5</th>\n",
       "      <td>8</td>\n",
       "      <td>1</td>\n",
       "      <td>1</td>\n",
       "      <td>6</td>\n",
       "    </tr>\n",
       "    <tr>\n",
       "      <th>6</th>\n",
       "      <td>8</td>\n",
       "      <td>8</td>\n",
       "      <td>0</td>\n",
       "      <td>0</td>\n",
       "    </tr>\n",
       "    <tr>\n",
       "      <th>7</th>\n",
       "      <td>0</td>\n",
       "      <td>1</td>\n",
       "      <td>3</td>\n",
       "      <td>0</td>\n",
       "    </tr>\n",
       "    <tr>\n",
       "      <th>8</th>\n",
       "      <td>2</td>\n",
       "      <td>4</td>\n",
       "      <td>5</td>\n",
       "      <td>3</td>\n",
       "    </tr>\n",
       "    <tr>\n",
       "      <th>9</th>\n",
       "      <td>4</td>\n",
       "      <td>0</td>\n",
       "      <td>9</td>\n",
       "      <td>7</td>\n",
       "    </tr>\n",
       "  </tbody>\n",
       "</table>\n",
       "</div>"
      ],
      "text/plain": [
       "   0  1  2  3\n",
       "0  3  2  5  2\n",
       "1  8  5  4  2\n",
       "2  9  0  8  6\n",
       "3  9  2  7  1\n",
       "4  1  9  2  3\n",
       "5  8  1  1  6\n",
       "6  8  8  0  0\n",
       "7  0  1  3  0\n",
       "8  2  4  5  3\n",
       "9  4  0  9  7"
      ]
     },
     "execution_count": 107,
     "metadata": {},
     "output_type": "execute_result"
    }
   ],
   "source": [
    "df"
   ]
  },
  {
   "cell_type": "code",
   "execution_count": 9,
   "metadata": {},
   "outputs": [
    {
     "name": "stdout",
     "output_type": "stream",
     "text": [
      "0 _ 0 0 0 0\n",
      "1 _ 0 0 0 1\n",
      "2 _ 0 0 0 2\n",
      "0 _ 0 0 1 0\n",
      "1 _ 0 0 1 1\n",
      "2 _ 0 0 1 2\n",
      "0 _ 0 0 2 0\n",
      "1 _ 0 0 2 1\n",
      "2 _ 0 0 2 2\n",
      "0 _ 0 1 0 0\n",
      "1 _ 0 1 0 1\n",
      "2 _ 0 1 0 2\n",
      "0 _ 0 1 1 0\n",
      "1 _ 0 1 1 1\n",
      "2 _ 0 1 1 2\n",
      "0 _ 0 1 2 0\n",
      "1 _ 0 1 2 1\n",
      "2 _ 0 1 2 2\n",
      "0 _ 0 2 0 0\n",
      "1 _ 0 2 0 1\n",
      "2 _ 0 2 0 2\n",
      "0 _ 0 2 1 0\n",
      "1 _ 0 2 1 1\n",
      "2 _ 0 2 1 2\n",
      "0 _ 0 2 2 0\n",
      "1 _ 0 2 2 1\n",
      "2 _ 0 2 2 2\n"
     ]
    }
   ],
   "source": [
    "import pandas as pd\n",
    "df = pd.DataFrame([\n",
    "    [3, 2, 5, 2],\n",
    "    [8, 5, 4, 2],\n",
    "    [9, 0, 8, 6],\n",
    "    [9, 2, 7, 1],\n",
    "    [1, 9, 2, 3],\n",
    "    [8, 1, 1, 6],\n",
    "    [8, 8, 0, 0],\n",
    "    [0, 1, 3, 0],\n",
    "    [2, 4, 5, 3],\n",
    "    [4, 0, 9, 7]\n",
    "])\n",
    "df\n",
    "\n",
    "counter = 0\n",
    "for a in range(3):\n",
    "    for b in range(3):\n",
    "        for c in range(3):\n",
    "            print(counter, '_', 0, a, b, c)\n",
    "            df.values[]\n",
    "            counter = counter+1\n",
    "            if c == 2:\n",
    "                counter = 0"
   ]
  },
  {
   "cell_type": "code",
   "execution_count": 163,
   "metadata": {},
   "outputs": [
    {
     "name": "stdout",
     "output_type": "stream",
     "text": [
      "n_1 0\n",
      "n_2 3\n",
      "n_3 9\n",
      "n_4 4\n",
      "n_5 0\n",
      "n_6 3\n",
      "n_7 9\n",
      "n_8 0\n",
      "n_9 0\n",
      "n_10 3\n",
      "n_11 9\n",
      "n_12 9\n",
      "n_13 0\n",
      "n_14 3\n",
      "n_15 9\n",
      "n_16 7\n",
      "n_17 0\n",
      "n_18 3\n",
      "n_19 2\n",
      "n_20 9\n"
     ]
    }
   ],
   "source": [
    "n_1 = 0\n",
    "n_2 = df.values[n_1][0]\n",
    "n_3 = df.values[n_2][0]\n",
    "n_4 = df.values[n_3][0]\n",
    "\n",
    "n_5 = 0\n",
    "n_6 = df.values[n_5][0]\n",
    "n_7 = df.values[n_6][0]\n",
    "n_8 = df.values[n_7][1]\n",
    "\n",
    "n_9 = 0\n",
    "n_10 = df.values[n_9][0]\n",
    "n_11 = df.values[n_10][0]\n",
    "n_12 = df.values[n_11][2]\n",
    "\n",
    "n_13 = 0\n",
    "n_14 = df.values[n_13][0]\n",
    "n_15 = df.values[n_14][0]\n",
    "n_16 = df.values[n_15][3]\n",
    "\n",
    "n_17 = 0\n",
    "n_18 = df.values[n_17][0]\n",
    "n_19 = df.values[n_18][1]\n",
    "n_20 = df.values[n_19][0]\n",
    "\n",
    "\n",
    "last_n = 20\n",
    "[exec('print(\"n_{var}\", n_{var})'.format(var=x)) for x in range(1, last_n+1)]\n",
    "None"
   ]
  },
  {
   "cell_type": "code",
   "execution_count": 14,
   "metadata": {},
   "outputs": [
    {
     "data": {
      "text/plain": [
       "[6, 5, 2, 3]"
      ]
     },
     "execution_count": 14,
     "metadata": {},
     "output_type": "execute_result"
    }
   ],
   "source": [
    "#PERFECT CASE STUDY\n",
    "def rec(list1, n, iter):\n",
    "    if iter == 3:\n",
    "        return 0\n",
    "    a = point_tree.query_ball_point(df.iloc[n], 2.5)\n",
    "    a.remove(n)\n",
    "    print(n, a)\n",
    "    for subn in a: \n",
    "        rec(list1, subn, iter+1)\n",
    "\n",
    "rec([], 7, 0)"
   ]
  },
  {
   "cell_type": "code",
   "execution_count": 10,
   "metadata": {},
   "outputs": [
    {
     "data": {
      "text/plain": [
       "[[0, 3, 9, 4],\n",
       " [0, 3, 9, 0],\n",
       " [0, 3, 9, 9],\n",
       " [0, 3, 9, 7],\n",
       " [0, 3, 2, 9],\n",
       " [0, 3, 2, 0],\n",
       " [0, 3, 2, 8],\n",
       " [0, 3, 2, 6],\n",
       " [0, 3, 7, 0],\n",
       " [0, 3, 7, 1],\n",
       " [0, 3, 7, 3],\n",
       " [0, 3, 7, 0],\n",
       " [0, 3, 1, 8],\n",
       " [0, 3, 1, 5],\n",
       " [0, 3, 1, 4],\n",
       " [0, 3, 1, 2],\n",
       " [0, 2, 9, 4],\n",
       " [0, 2, 9, 0],\n",
       " [0, 2, 9, 9],\n",
       " [0, 2, 9, 7],\n",
       " [0, 2, 0, 3],\n",
       " [0, 2, 0, 2],\n",
       " [0, 2, 0, 5],\n",
       " [0, 2, 0, 2],\n",
       " [0, 2, 8, 2],\n",
       " [0, 2, 8, 4],\n",
       " [0, 2, 8, 5],\n",
       " [0, 2, 8, 3],\n",
       " [0, 2, 6, 8],\n",
       " [0, 2, 6, 8],\n",
       " [0, 2, 6, 0],\n",
       " [0, 2, 6, 0],\n",
       " [0, 5, 8, 2],\n",
       " [0, 5, 8, 4],\n",
       " [0, 5, 8, 5],\n",
       " [0, 5, 8, 3],\n",
       " [0, 5, 1, 8],\n",
       " [0, 5, 1, 5],\n",
       " [0, 5, 1, 4],\n",
       " [0, 5, 1, 2],\n",
       " [0, 5, 1, 8],\n",
       " [0, 5, 1, 5],\n",
       " [0, 5, 1, 4],\n",
       " [0, 5, 1, 2],\n",
       " [0, 5, 6, 8],\n",
       " [0, 5, 6, 8],\n",
       " [0, 5, 6, 0],\n",
       " [0, 5, 6, 0],\n",
       " [0, 2, 9, 4],\n",
       " [0, 2, 9, 0],\n",
       " [0, 2, 9, 9],\n",
       " [0, 2, 9, 7],\n",
       " [0, 2, 0, 3],\n",
       " [0, 2, 0, 2],\n",
       " [0, 2, 0, 5],\n",
       " [0, 2, 0, 2],\n",
       " [0, 2, 8, 2],\n",
       " [0, 2, 8, 4],\n",
       " [0, 2, 8, 5],\n",
       " [0, 2, 8, 3],\n",
       " [0, 2, 6, 8],\n",
       " [0, 2, 6, 8],\n",
       " [0, 2, 6, 0],\n",
       " [0, 2, 6, 0]]"
      ]
     },
     "execution_count": 10,
     "metadata": {},
     "output_type": "execute_result"
    }
   ],
   "source": [
    "arr = df.to_numpy()\n",
    "\n",
    "staging = [[0]] #initial value\n",
    "result = []\n",
    "while len(staging) > 0:\n",
    "    s = staging.pop(0)\n",
    "    if len(s) == 4:\n",
    "        #iteration has ended\n",
    "        result.append(s)\n",
    "    else:\n",
    "        last = s[-1]\n",
    "        for i in range(4): #valori laterali\n",
    "            staging.append(s + [arr[last, i]])\n",
    "result"
   ]
  },
  {
   "cell_type": "code",
   "execution_count": 8,
   "metadata": {},
   "outputs": [
    {
     "data": {
      "text/plain": [
       "{0, 1, 4, 5, 'a'}"
      ]
     },
     "execution_count": 8,
     "metadata": {},
     "output_type": "execute_result"
    }
   ],
   "source": [
    "todo = set()\n",
    "\n",
    "todo.add(0)\n",
    "todo.add(1)\n",
    "todo.add(5)\n",
    "todo.add('a')\n",
    "\n",
    "todo.add(4)\n",
    "\n",
    "todo"
   ]
  },
  {
   "cell_type": "code",
   "execution_count": null,
   "metadata": {},
   "outputs": [],
   "source": [
    "import pandas as pd\n",
    "df = pd.DataFrame([\n",
    "    [3, 2, 5, 2],\n",
    "    [8, 5, 4, 2],\n",
    "    [9, 0, 8, 6],\n",
    "    [9, 2, 7, 1],\n",
    "    [1, 9, 2, 3],\n",
    "    [8, 1, 1, 6],\n",
    "    [8, 8, 0, 0],\n",
    "    [0, 1, 3, 0],\n",
    "    [2, 4, 5, 3],\n",
    "    [4, 0, 9, 7]\n",
    "])\n",
    "df\n",
    "\n",
    "done = list()\n",
    "todo = [0, 3]\n",
    "\n",
    "iter = 0\n",
    "while iter < 3:\n",
    "    print('new', iter, done, todo)\n",
    "    tomove = len(todo)\n",
    "    todo_ = todo.copy() #we copy \n",
    "    for el in todo_:\n",
    "        print('inside', el, list(df.iloc[el]))\n",
    "        [todo.append(x) for x in list(df.iloc[el])]\n",
    "        \n",
    "    done = done+todo[0:tomove]\n",
    "    todo = todo[tomove:]\n",
    "    \n",
    "    iter += 1"
   ]
  },
  {
   "cell_type": "code",
   "execution_count": null,
   "metadata": {},
   "outputs": [],
   "source": [
    "done = list()\n",
    "todo = [0, 3]\n",
    "\n",
    "iter = 0\n",
    "while iter < 3:\n",
    "    print('new', iter, done, todo)\n",
    "    tomove = len(todo)\n",
    "    todo_ = todo.copy() #we copy \n",
    "    for el in todo_:\n",
    "        print('inside', el, list(df.iloc[el]))\n",
    "        [todo.append(x) for x in list(df.iloc[el])]\n",
    "        \n",
    "    done = done+todo[0:tomove]\n",
    "    todo = todo[tomove:]\n",
    "    \n",
    "    iter += 1"
   ]
  }
 ],
 "metadata": {
  "interpreter": {
   "hash": "75a300ae82dd7b8f387c1777b66b2ec8c7a5f6d51d6392630ee9b10fab7f95f8"
  },
  "kernelspec": {
   "display_name": "Python 3.9.0 64-bit",
   "language": "python",
   "name": "python3"
  },
  "language_info": {
   "codemirror_mode": {
    "name": "ipython",
    "version": 3
   },
   "file_extension": ".py",
   "mimetype": "text/x-python",
   "name": "python",
   "nbconvert_exporter": "python",
   "pygments_lexer": "ipython3",
   "version": "3.9.0"
  },
  "orig_nbformat": 4
 },
 "nbformat": 4,
 "nbformat_minor": 2
}
