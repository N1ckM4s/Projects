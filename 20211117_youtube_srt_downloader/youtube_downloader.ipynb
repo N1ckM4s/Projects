{
 "cells": [
  {
   "cell_type": "code",
   "execution_count": null,
   "metadata": {},
   "outputs": [],
   "source": [
    "!pip install youtube_transcript_api"
   ]
  },
  {
   "cell_type": "code",
   "execution_count": null,
   "metadata": {},
   "outputs": [],
   "source": [
    "from transformers import pipeline\n",
    "from youtube_transcript_api import YouTubeTranscriptApi\n",
    "\n",
    "classifier = pipeline(\"sentiment-analysis\")\n",
    "  \n",
    "def youtube_sentiment(url):\n",
    "    youtube_id = url.split('=')[1]\n",
    "    srt = YouTubeTranscriptApi.get_transcript(youtube_id)\n",
    "    sentiment_list = list()\n",
    "    for sentence in srt:\n",
    "        result = classifier(sentence['text'])[0]\n",
    "        sentiment_list.append(result)\n",
    "    return srt, sentiment_list\n",
    "\n",
    "youtube_sentiment(\"https://www.youtube.com/watch?v=dijZkOCNMo0&ab_channel=IanJVanderSchee\")"
   ]
  },
  {
   "cell_type": "code",
   "execution_count": null,
   "metadata": {},
   "outputs": [],
   "source": [
    "from youtube_transcript_api import YouTubeTranscriptApi\n",
    "\n",
    "def youtube_sentiment(url):\n",
    "    youtube_id = url.split('=')[1]\n",
    "    srt = YouTubeTranscriptApi.get_transcript(youtube_id)\n",
    "    sentiment_list = list()\n",
    "    return srt\n",
    "\n",
    "youtube_sentiment(\"https://www.youtube.com/watch?v=z33AyIDAPw0&ab_channel=BBC\")"
   ]
  }
 ],
 "metadata": {
  "language_info": {
   "name": "python"
  },
  "orig_nbformat": 4
 },
 "nbformat": 4,
 "nbformat_minor": 2
}
