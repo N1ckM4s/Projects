{
 "cells": [
  {
   "cell_type": "code",
   "execution_count": null,
   "metadata": {},
   "outputs": [],
   "source": [
    "!pip install youtube_transcript_api"
   ]
  },
  {
   "cell_type": "code",
   "execution_count": null,
   "metadata": {},
   "outputs": [],
   "source": [
    "from transformers import pipeline\n",
    "from youtube_transcript_api import YouTubeTranscriptApi\n",
    "\n",
    "classifier = pipeline(\"sentiment-analysis\")\n",
    "  \n",
    "def youtube_sentiment(url):\n",
    "    youtube_id = url.split('=')[1]\n",
    "    srt = YouTubeTranscriptApi.get_transcript(youtube_id)\n",
    "    sentiment_list = list()\n",
    "    for sentence in srt:\n",
    "        result = classifier(sentence['text'])[0]\n",
    "        sentiment_list.append(result)\n",
    "    return srt, sentiment_list\n",
    "\n",
    "youtube_sentiment(\"https://www.youtube.com/watch?v=dijZkOCNMo0&ab_channel=IanJVanderSchee\")"
   ]
  },
  {
   "cell_type": "code",
   "execution_count": null,
   "metadata": {},
   "outputs": [],
   "source": [
    "from youtube_transcript_api import YouTubeTranscriptApi\n",
    "\n",
    "def youtube_srt(url):\n",
    "    youtube_id = url.split('=')[1]\n",
    "    srt = YouTubeTranscriptApi.get_transcript(youtube_id)\n",
    "    sentiment_list = list()\n",
    "    return srt\n",
    "\n",
    "youtube_srt(\"https://www.youtube.com/playlist?list=PLQKBpQZcRycrvUUxLdVmlfMChJS0S5Zw0\")"
   ]
  },
  {
   "cell_type": "code",
   "execution_count": null,
   "metadata": {},
   "outputs": [],
   "source": [
    "#downloads the link list of a channel up to 100 links\n",
    "import time\n",
    "from selenium import webdriver\n",
    "from webdriver_manager.chrome import ChromeDriverManager\n",
    "from selenium.webdriver.common.keys import Keys\n",
    "\n",
    "#driver = webdriver.Chrome(\"pathToChromeDriver\")\n",
    "driver = webdriver.Chrome(ChromeDriverManager().install())\n",
    "driver.get('https://www.youtube.com/playlist?list=PLQKBpQZcRycrvUUxLdVmlfMChJS0S5Zw0')\n",
    "time.sleep(3) #this gives you enough time to press the consent button\n",
    "\n",
    "def collectLinks():\n",
    "    elements = []\n",
    "    elems = driver.find_elements_by_xpath(\"//a[@href]\")\n",
    "    print(\"Collecting links...\")\n",
    "    for elem in elems:\n",
    "        elements.append(str(elem.get_attribute(\"href\")))\n",
    "    for i in elements:\n",
    "        print(i)\n",
    "    return elements\n",
    "\n",
    "links = collectLinks()\n",
    "driver.quit()"
   ]
  },
  {
   "cell_type": "code",
   "execution_count": null,
   "metadata": {},
   "outputs": [],
   "source": [
    "#clean links\n",
    "working_links = list()\n",
    "for link in links:\n",
    "    try:\n",
    "        exist = link.split('=')[1]\n",
    "        working_links.append(link)\n",
    "        #print(link)\n",
    "    except:\n",
    "        pass\n",
    "working_links = working_links[1:]\n",
    "working_links"
   ]
  }
 ],
 "metadata": {
  "interpreter": {
   "hash": "75a300ae82dd7b8f387c1777b66b2ec8c7a5f6d51d6392630ee9b10fab7f95f8"
  },
  "kernelspec": {
   "display_name": "Python 3.9.0 64-bit",
   "language": "python",
   "name": "python3"
  },
  "language_info": {
   "codemirror_mode": {
    "name": "ipython",
    "version": 3
   },
   "file_extension": ".py",
   "mimetype": "text/x-python",
   "name": "python",
   "nbconvert_exporter": "python",
   "pygments_lexer": "ipython3",
   "version": "3.9.0"
  },
  "orig_nbformat": 4
 },
 "nbformat": 4,
 "nbformat_minor": 2
}
