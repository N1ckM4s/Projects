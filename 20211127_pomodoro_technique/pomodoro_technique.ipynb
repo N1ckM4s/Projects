{
 "cells": [
  {
   "cell_type": "code",
   "execution_count": 1,
   "metadata": {},
   "outputs": [
    {
     "name": "stdout",
     "output_type": "stream",
     "text": [
      "15:23:24 cycle 1 started:\n",
      "15:23:24 keep the pomodoro going until: 15:23:54\n",
      "15:23:54 break until: 15:24:04\n",
      "15:24:04 keep the pomodoro going until: 15:24:34\n"
     ]
    }
   ],
   "source": [
    "import time\n",
    "import datetime as datetime_\n",
    "from datetime import datetime\n",
    "\n",
    "#while True:\n",
    "cycles = 2\n",
    "pomodoro = 4\n",
    "pomodoro_length_sec = 30\n",
    "break_length_sec = 10\n",
    "long_break_length_sec = 60\n",
    "\n",
    "for cycle in range(1, cycles+1):\n",
    "    print(datetime.now().strftime(\"%H:%M:%S\"), 'cycle', cycle, 'started:')\n",
    "    \n",
    "    for pomodoro in range(cycles):\n",
    "        #pomodoro started\n",
    "        pomodoro_finish = datetime.now()+datetime_.timedelta(seconds=pomodoro_length_sec)\n",
    "        print(datetime.now().strftime(\"%H:%M:%S\"), 'keep the pomodoro going until:', pomodoro_finish.strftime(\"%H:%M:%S\"))\n",
    "        time.sleep(pomodoro_length_sec)\n",
    "\n",
    "        #pomododoro finished\n",
    "        #\n",
    "\n",
    "        #break started\n",
    "        break_finish = datetime.now()+datetime_.timedelta(seconds=break_length_sec)\n",
    "        print(datetime.now().strftime(\"%H:%M:%S\"), 'break until:', break_finish.strftime(\"%H:%M:%S\"))\n",
    "        time.sleep(break_length_sec)\n",
    "\n",
    "        #break finished\n",
    "        #\n",
    "    \n",
    "    if cycle == cycles+1:\n",
    "        print('end')\n",
    "    else:\n",
    "        cycle_finish = datetime.now()+datetime_.timedelta(seconds=long_break_length_sec)\n",
    "        print(datetime.now().strftime(\"%H:%M:%S\"), 'long break until:', cycle_finish.strftime(\"%H:%M:%S\"))\n",
    "        time.sleep(long_break_length_sec)"
   ]
  }
 ],
 "metadata": {
  "interpreter": {
   "hash": "75a300ae82dd7b8f387c1777b66b2ec8c7a5f6d51d6392630ee9b10fab7f95f8"
  },
  "kernelspec": {
   "display_name": "Python 3.9.0 64-bit",
   "language": "python",
   "name": "python3"
  },
  "language_info": {
   "codemirror_mode": {
    "name": "ipython",
    "version": 3
   },
   "file_extension": ".py",
   "mimetype": "text/x-python",
   "name": "python",
   "nbconvert_exporter": "python",
   "pygments_lexer": "ipython3",
   "version": "3.9.0"
  },
  "orig_nbformat": 4
 },
 "nbformat": 4,
 "nbformat_minor": 2
}
