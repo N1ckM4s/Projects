{
 "cells": [
  {
   "cell_type": "code",
   "execution_count": 1,
   "metadata": {},
   "outputs": [
    {
     "name": "stdout",
     "output_type": "stream",
     "text": [
      "Requirement already satisfied: python-docx in c:\\users\\ardit\\appdata\\local\\programs\\python\\python39\\lib\\site-packages (0.8.10)\n",
      "Requirement already satisfied: lxml>=2.3.2 in c:\\users\\ardit\\appdata\\local\\programs\\python\\python39\\lib\\site-packages (from python-docx) (4.6.1)\n"
     ]
    }
   ],
   "source": [
    "!pip install python-docx"
   ]
  },
  {
   "cell_type": "code",
   "execution_count": 46,
   "metadata": {},
   "outputs": [
    {
     "data": {
      "text/plain": [
       "[{'%nome%': 'Aura Elena Ferrer Lopez',\n",
       "  '%codice fiscale%': 'FRRRLN62S61Z516F',\n",
       "  '%luogo di nascita%': 'Ciudad de Panama, Panama',\n",
       "  '%data di nascita%': '21 novembre 1962',\n",
       "  '%indirizzo%': 'Calle Elida Diez, Nuevo Reparto El Carmen, Casa H-26, Ciudad de Panama, 07096, Panama'},\n",
       " {'%nome%': 'Marco Mazzeschi',\n",
       "  '%codice fiscale%': 'ABC',\n",
       "  '%luogo di nascita%': 'Colle',\n",
       "  '%data di nascita%': '2021',\n",
       "  '%indirizzo%': 'Scorgiano'}]"
      ]
     },
     "execution_count": 46,
     "metadata": {},
     "output_type": "execute_result"
    }
   ],
   "source": [
    "import json\n",
    "\n",
    "with open('names.json') as f:\n",
    "    names = json.load(f)\n",
    "names\n",
    "\n",
    "replacements_list = list()\n",
    "for a, b in enumerate(names):\n",
    "    replacements_list.append(names[b])\n",
    "replacements_list"
   ]
  },
  {
   "cell_type": "code",
   "execution_count": 47,
   "metadata": {},
   "outputs": [],
   "source": [
    "from docx import Document\n",
    "\n",
    "doc_list = ['DICHIARAZIONE di non rinuncia.docx', 'informativa di mediazione.docx', 'POA.docx']\n",
    "for doc_name in doc_list:\n",
    "    for replacements in replacements_list:\n",
    "        doc = Document(doc_name)\n",
    "        for paragraph in doc.paragraphs:\n",
    "            for key in replacements:\n",
    "                paragraph.text = paragraph.text.replace(key, replacements[key])\n",
    "        doc.save('generated/'+doc_name.split('.')[0] + ' ' + replacements['%nome%'] + '.docx')"
   ]
  }
 ],
 "metadata": {
  "interpreter": {
   "hash": "75a300ae82dd7b8f387c1777b66b2ec8c7a5f6d51d6392630ee9b10fab7f95f8"
  },
  "kernelspec": {
   "display_name": "Python 3.9.0 64-bit",
   "language": "python",
   "name": "python3"
  },
  "language_info": {
   "codemirror_mode": {
    "name": "ipython",
    "version": 3
   },
   "file_extension": ".py",
   "mimetype": "text/x-python",
   "name": "python",
   "nbconvert_exporter": "python",
   "pygments_lexer": "ipython3",
   "version": "3.9.0"
  },
  "orig_nbformat": 4
 },
 "nbformat": 4,
 "nbformat_minor": 2
}
