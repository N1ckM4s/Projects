{
  "nbformat": 4,
  "nbformat_minor": 0,
  "metadata": {
    "colab": {
      "name": "Untitled0.ipynb",
      "private_outputs": true,
      "provenance": []
    },
    "kernelspec": {
      "name": "python3",
      "display_name": "Python 3"
    },
    "language_info": {
      "name": "python"
    }
  },
  "cells": [
    {
      "cell_type": "code",
      "metadata": {
        "id": "2YrVswRA2-tq"
      },
      "source": [
        "# Import dependencies and required magics\n",
        "import requests\n",
        "from bs4 import BeautifulSoup\n",
        "from textblob import TextBlob\n",
        "import pandas as pd"
      ],
      "execution_count": null,
      "outputs": []
    },
    {
      "cell_type": "code",
      "metadata": {
        "id": "1NZKbyv_Qt_V"
      },
      "source": [
        "# Load text from web-page, save to local file\n",
        "\n",
        "URL = 'http://www.abrahamlincolnonline.org/lincoln/speeches/lyceum.htm'\n",
        "page = requests.get(URL)\n",
        "\n",
        "#next step: parsing\n",
        "soup = BeautifulSoup(page.content, 'html.parser')\n",
        "soup"
      ],
      "execution_count": null,
      "outputs": []
    },
    {
      "cell_type": "code",
      "metadata": {
        "id": "ikU_aV5yQt_V"
      },
      "source": [
        "# Load from saved file, review it, \n",
        "# drop lines as needed, perform necessary processing.\n",
        "\n",
        "#extract full speech, from beginning to end\n",
        "print(str(soup).find('As a subject fo'))\n",
        "print(str(soup).find('not prevail against')+len('not prevail against'))\n",
        "\n",
        "speech = str(soup)[2285:23012]\n",
        "\n",
        "#show last 100 words\n",
        "speech[-100:]"
      ],
      "execution_count": null,
      "outputs": []
    },
    {
      "cell_type": "code",
      "metadata": {
        "id": "QRdKngzM3BsC"
      },
      "source": [
        "#clean speech from characters used in html\n",
        "import re\n",
        "\n",
        "def cleanhtml(raw_html):\n",
        "  cleanr = re.compile('<.*?>')\n",
        "  cleantext = re.sub(cleanr, '', raw_html)\n",
        "  return cleantext\n",
        "\n",
        "cleaned_speech = cleanhtml(speech).replace(\"\\n\" , \" \")\n",
        "\n",
        "#personalized cleaning: only works for this dataset\n",
        "cleaned_speech = cleanhtml(cleaned_speech).replace(\"St. Louis\" , \"St Louis\")\n",
        "cleaned_speech"
      ],
      "execution_count": null,
      "outputs": []
    },
    {
      "cell_type": "code",
      "metadata": {
        "id": "rS_-5Y9P3EyY"
      },
      "source": [
        "#split sentences by . and put them in a list\n",
        "sentences = cleaned_speech.split('.')\n",
        "\n",
        "#edit individual sentences\n",
        "sentences = list(filter(None, [str.strip(x) for x in sentences]))\n",
        "sentences"
      ],
      "execution_count": null,
      "outputs": []
    },
    {
      "cell_type": "code",
      "metadata": {
        "id": "tjpbNon5Qt_W"
      },
      "source": [
        "# Perform sentiment analysis\n",
        "df = list()\n",
        "for sentence in sentences:\n",
        "  testimonial = TextBlob(sentence)\n",
        "  #testimonial.sentiment (polarity, subjectvity)\n",
        "  testimonial.sentiment.polarity\n",
        "  df.append([sentence, testimonial.sentiment.polarity, testimonial.subjectivity])\n",
        "df"
      ],
      "execution_count": null,
      "outputs": []
    },
    {
      "cell_type": "code",
      "metadata": {
        "id": "BJ6NkxspQt_W"
      },
      "source": [
        "# Save sentiment data to dataframe\n",
        "df = pd.DataFrame(df)\n",
        "df.columns=['sentence', 'polarity', 'subjectivity']"
      ],
      "execution_count": null,
      "outputs": []
    },
    {
      "cell_type": "code",
      "metadata": {
        "id": "F-U56RRtQt_W"
      },
      "source": [
        "# Output key sentiment analysis results including:\n",
        "#   Overall sentiment analysis scores for the document\n",
        "#   Correlation of polarity and subjectivity scores across sentences\n",
        "\n",
        "display(df)\n",
        "df.corr()"
      ],
      "execution_count": null,
      "outputs": []
    },
    {
      "cell_type": "code",
      "metadata": {
        "id": "AX_vudUPQt_X"
      },
      "source": [
        "# Print out 20 sentences and their scores including:\n",
        "#    5 most negative sentences including polarity and subjectivity\n",
        "#    5 most positive sentences including polarity and subjectivity\n",
        "#    5 most subjective sentences including polarity and subjectivity\n",
        "#    5 most objective sentences including polarity and subjectivity\n",
        "\n",
        "print('\\n', 'top 5 sentences for polarity')\n",
        "display(df.sort_values('polarity', ascending=False)[0:5])\n",
        "\n",
        "print('\\n', 'lowest 5 sentences for polarity')\n",
        "display(df.sort_values('polarity', ascending=True)[0:5])\n",
        "\n",
        "print('\\n', 'top 5 sentences for subjectivity')\n",
        "display(df.sort_values('subjectivity', ascending=False)[0:5])\n",
        "\n",
        "print('\\n', 'lowest 5 sentences for subjectivity')\n",
        "display(df.sort_values('subjectivity', ascending=True)[0:5])"
      ],
      "execution_count": null,
      "outputs": []
    },
    {
      "cell_type": "code",
      "metadata": {
        "id": "a13sHcjf2WCZ"
      },
      "source": [
        "# Load text from web-page, save to local file\n",
        "import requests\n",
        "from bs4 import BeautifulSoup\n",
        "from textblob import TextBlob\n",
        "import pandas as pd\n",
        "import re\n",
        "import plotly.express as px\n",
        "\n",
        "fig = px.scatter(df, title='Lincoln', x='polarity', y='subjectivity', hover_data=['sentence'])\n",
        "fig.show()"
      ],
      "execution_count": null,
      "outputs": []
    }
  ]
}