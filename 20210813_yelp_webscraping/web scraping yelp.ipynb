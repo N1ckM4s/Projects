{
  "nbformat": 4,
  "nbformat_minor": 0,
  "metadata": {
    "colab": {
      "name": "Untitled9.ipynb",
      "private_outputs": true,
      "provenance": []
    },
    "kernelspec": {
      "name": "python3",
      "display_name": "Python 3"
    },
    "language_info": {
      "name": "python"
    }
  },
  "cells": [
    {
      "cell_type": "code",
      "metadata": {
        "id": "7DW3G7Z1Nscf"
      },
      "source": [
        "import requests\n",
        "from bs4 import BeautifulSoup\n",
        "import time\n",
        "\n",
        "comment_list = list()\n",
        "for pag in range(1, 29):\n",
        "  time.sleep(5)\n",
        "\n",
        "  URL = \"https://www.yelp.com/biz/the-cortez-raleigh?osq=Restaurants&start=\"+str(pag*10)+\"&sort_by=rating_asc\"\n",
        "  print('downloading page ', pag*10)\n",
        "  page = requests.get(URL)\n",
        "\n",
        "  #next step: parsing\n",
        "  soup = BeautifulSoup(page.content, 'lxml')\n",
        "  soup\n",
        "\n",
        "  for comm in soup.find(\"yelp-react-root\").find_all(\"p\", {\"class\" : \"comment__373c0__Nsutg css-n6i4z7\"}):\n",
        "    comment_list.append(comm.find(\"span\").decode_contents())\n",
        "    print(comm.find(\"span\").decode_contents())"
      ],
      "execution_count": null,
      "outputs": []
    },
    {
      "cell_type": "code",
      "metadata": {
        "id": "Ni7oGdqoeMYa"
      },
      "source": [
        "import pandas as pd\n",
        "\n",
        "pd.DataFrame([comment_list]).T.to_csv('sam.csv')"
      ],
      "execution_count": null,
      "outputs": []
    }
  ]
}