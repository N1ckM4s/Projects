{
 "cells": [
  {
   "cell_type": "code",
   "execution_count": null,
   "metadata": {},
   "outputs": [],
   "source": [
    "!pip install -U relevanceai\n",
    "!pip install tqdm>=4.62.2"
   ]
  },
  {
   "cell_type": "code",
   "execution_count": null,
   "metadata": {},
   "outputs": [],
   "source": [
    "import pandas as pd\n",
    "\n",
    "df = pd.read_csv('datasets/mpst_raw.csv')\n",
    "\n",
    "df = df.sort_values('title').reset_index(drop=True)\n",
    "df['lev'] = None\n",
    "df\n",
    "from Levenshtein import distance\n",
    "for a in range(len(df)-1):\n",
    "    if distance(df.iloc[a].title, df.iloc[a+1].title) <= 3:\n",
    "        print(a, df.iloc[a].title, df.iloc[a+1].title)\n",
    "        df.at[a, 'lev'] = distance(df.iloc[a].title, df.iloc[a+1].title)\n",
    "df\n",
    "#we filter similar movies\n",
    "df = df[df['lev'].isnull()].reset_index(drop=True)\n",
    "df\n",
    "\n",
    "#find Avengers duplicates\n",
    "for a in range(len(df)):\n",
    "    if df.iloc[a]['title'].find('Avengers') != -1:\n",
    "        pass\n",
    "        #print(a)\n",
    "#drop extra\n",
    "df = df.drop([9572]).reset_index(drop=True) #i can do 1, 2, 3... to drop multiple\n",
    "df\n",
    "df.to_csv('mpst_no_duplicates.csv')"
   ]
  },
  {
   "cell_type": "markdown",
   "metadata": {},
   "source": [
    "## encode with relevanceai"
   ]
  },
  {
   "cell_type": "code",
   "execution_count": null,
   "metadata": {},
   "outputs": [],
   "source": [
    "json_files = df[['title', 'plot_synopsis']]\n",
    "json_files = json_files.reset_index()\n",
    "json_files.columns = ['_id', 'title', 'plot_synopsis']\n",
    "json_files=json_files.to_dict(orient='records')\n",
    "json_files"
   ]
  },
  {
   "cell_type": "code",
   "execution_count": null,
   "metadata": {},
   "outputs": [],
   "source": [
    "#encode on local\n",
    "from vectorhub.encoders.text.sentence_transformers import SentenceTransformer2Vec\n",
    "model = SentenceTransformer2Vec(\"bert-base-uncased\")\n",
    "df_json = model.encode_documents(documents=json_files, fields=['plot_synopsis'])\n",
    "df_json"
   ]
  },
  {
   "cell_type": "markdown",
   "metadata": {},
   "source": [
    "## encode with sentence-transformers\n",
    "An alternative to the relevanceai library"
   ]
  },
  {
   "cell_type": "code",
   "execution_count": null,
   "metadata": {},
   "outputs": [],
   "source": [
    "from tqdm import tqdm\n",
    "from sentence_transformers import SentenceTransformer\n",
    "import numpy as np\n",
    "\n",
    "tqdm.pandas()\n",
    "\n",
    "model = SentenceTransformer('all-MiniLM-L6-v2') #all-MiniLM-L6-v2 #all-mpnet-base-v2\n",
    "df_ = df.copy()\n",
    "df_['plot_synopsis'] = df_['plot_synopsis'].progress_apply(lambda x : model.encode(x))\n",
    "df_index = df_.pop('title')\n",
    "df_ = df_[['plot_synopsis']]\n",
    "df_ = pd.DataFrame(np.column_stack(list(zip(*df_.values))))\n",
    "df_.index = df_index\n",
    "df_\n",
    "df_.to_csv('mpst_encoded_no_duplicates.csv')"
   ]
  },
  {
   "cell_type": "markdown",
   "metadata": {},
   "source": [
    "# vector search"
   ]
  },
  {
   "cell_type": "code",
   "execution_count": null,
   "metadata": {},
   "outputs": [],
   "source": [
    "import pandas as pd\n",
    "df_movies_encoded = pd.read_csv('mpst_encoded_no_duplicates.csv')\n",
    "df_movies_encoded.index = df_movies_encoded.pop('title')\n",
    "df_movies_encoded"
   ]
  },
  {
   "cell_type": "code",
   "execution_count": null,
   "metadata": {},
   "outputs": [],
   "source": [
    "from Levenshtein import distance\n",
    "from sklearn.neighbors import NearestNeighbors\n",
    "import numpy as np\n",
    "import pandas as pd\n",
    "\n",
    "nbrs = NearestNeighbors(n_neighbors=2, algorithm='ball_tree').fit(df_movies_encoded)\n",
    "\n",
    "#string-searching algorithm\n",
    "def closest_title(title):\n",
    "    m = pd.DataFrame(df_movies_encoded.index)\n",
    "    m['lev'] = m['title'].apply(lambda x : distance(x, 'Prince of Egypt'))\n",
    "    return m.sort_values('lev', ascending=True)['title'].iloc[0]"
   ]
  },
  {
   "cell_type": "code",
   "execution_count": null,
   "metadata": {},
   "outputs": [],
   "source": [
    "def find_similar_movies(df, nbrs, title):\n",
    "    #if title not in df it will choose the best search\n",
    "    title = closest_title(title)\n",
    "\n",
    "    distances, indices = nbrs.kneighbors([df.loc[title]])\n",
    "\n",
    "    #print(indices)\n",
    "    #we print df data, no longer df_\n",
    "    for index in indices[0][1:]:\n",
    "        print('index', index)\n",
    "        print(title, '->', df.iloc[index].name)\n",
    "\n",
    "find_similar_movies(df_movies_encoded, nbrs, 'Prince of Egypt')"
   ]
  }
 ],
 "metadata": {
  "interpreter": {
   "hash": "75a300ae82dd7b8f387c1777b66b2ec8c7a5f6d51d6392630ee9b10fab7f95f8"
  },
  "kernelspec": {
   "display_name": "Python 3.9.0 64-bit",
   "language": "python",
   "name": "python3"
  },
  "language_info": {
   "codemirror_mode": {
    "name": "ipython",
    "version": 3
   },
   "file_extension": ".py",
   "mimetype": "text/x-python",
   "name": "python",
   "nbconvert_exporter": "python",
   "pygments_lexer": "ipython3",
   "version": "3.9.0"
  },
  "orig_nbformat": 4
 },
 "nbformat": 4,
 "nbformat_minor": 2
}
