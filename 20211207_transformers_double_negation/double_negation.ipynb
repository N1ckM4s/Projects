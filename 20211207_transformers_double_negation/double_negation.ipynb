{
 "cells": [
  {
   "cell_type": "code",
   "execution_count": null,
   "metadata": {},
   "outputs": [],
   "source": [
    "#I do not like chocolate\n",
    "#I dislike chocolate\n",
    "#I hate chocolate\n",
    "#I love chocolate\n",
    "#I do not love chocolate enough"
   ]
  },
  {
   "cell_type": "code",
   "execution_count": 5,
   "metadata": {},
   "outputs": [
    {
     "data": {
      "text/html": [
       "<div>\n",
       "<style scoped>\n",
       "    .dataframe tbody tr th:only-of-type {\n",
       "        vertical-align: middle;\n",
       "    }\n",
       "\n",
       "    .dataframe tbody tr th {\n",
       "        vertical-align: top;\n",
       "    }\n",
       "\n",
       "    .dataframe thead th {\n",
       "        text-align: right;\n",
       "    }\n",
       "</style>\n",
       "<table border=\"1\" class=\"dataframe\">\n",
       "  <thead>\n",
       "    <tr style=\"text-align: right;\">\n",
       "      <th></th>\n",
       "      <th>sentences</th>\n",
       "      <th>0</th>\n",
       "      <th>1</th>\n",
       "      <th>2</th>\n",
       "      <th>3</th>\n",
       "      <th>4</th>\n",
       "      <th>5</th>\n",
       "      <th>6</th>\n",
       "      <th>7</th>\n",
       "      <th>8</th>\n",
       "      <th>...</th>\n",
       "      <th>758</th>\n",
       "      <th>759</th>\n",
       "      <th>760</th>\n",
       "      <th>761</th>\n",
       "      <th>762</th>\n",
       "      <th>763</th>\n",
       "      <th>764</th>\n",
       "      <th>765</th>\n",
       "      <th>766</th>\n",
       "      <th>767</th>\n",
       "    </tr>\n",
       "  </thead>\n",
       "  <tbody>\n",
       "    <tr>\n",
       "      <th>0</th>\n",
       "      <td>I do not like chocolate</td>\n",
       "      <td>0.054062</td>\n",
       "      <td>0.042980</td>\n",
       "      <td>-0.009925</td>\n",
       "      <td>0.019411</td>\n",
       "      <td>0.003796</td>\n",
       "      <td>0.040015</td>\n",
       "      <td>-0.053330</td>\n",
       "      <td>-0.028859</td>\n",
       "      <td>0.031717</td>\n",
       "      <td>...</td>\n",
       "      <td>-0.012775</td>\n",
       "      <td>0.003404</td>\n",
       "      <td>-0.039866</td>\n",
       "      <td>0.013771</td>\n",
       "      <td>0.004033</td>\n",
       "      <td>0.019792</td>\n",
       "      <td>-0.022589</td>\n",
       "      <td>0.040459</td>\n",
       "      <td>0.003660</td>\n",
       "      <td>0.018704</td>\n",
       "    </tr>\n",
       "    <tr>\n",
       "      <th>1</th>\n",
       "      <td>I dislike chocolate</td>\n",
       "      <td>0.045687</td>\n",
       "      <td>0.046835</td>\n",
       "      <td>0.004432</td>\n",
       "      <td>-0.003297</td>\n",
       "      <td>0.009619</td>\n",
       "      <td>0.057770</td>\n",
       "      <td>-0.068213</td>\n",
       "      <td>-0.036482</td>\n",
       "      <td>0.004739</td>\n",
       "      <td>...</td>\n",
       "      <td>-0.017427</td>\n",
       "      <td>0.009676</td>\n",
       "      <td>-0.020322</td>\n",
       "      <td>0.013982</td>\n",
       "      <td>0.036550</td>\n",
       "      <td>0.003776</td>\n",
       "      <td>0.001866</td>\n",
       "      <td>0.028782</td>\n",
       "      <td>-0.008772</td>\n",
       "      <td>0.015054</td>\n",
       "    </tr>\n",
       "    <tr>\n",
       "      <th>2</th>\n",
       "      <td>I hate chocolate</td>\n",
       "      <td>0.041564</td>\n",
       "      <td>0.047781</td>\n",
       "      <td>0.006167</td>\n",
       "      <td>-0.019748</td>\n",
       "      <td>0.007135</td>\n",
       "      <td>0.059544</td>\n",
       "      <td>-0.066038</td>\n",
       "      <td>-0.036976</td>\n",
       "      <td>-0.002598</td>\n",
       "      <td>...</td>\n",
       "      <td>-0.023427</td>\n",
       "      <td>0.009418</td>\n",
       "      <td>-0.013317</td>\n",
       "      <td>0.005391</td>\n",
       "      <td>0.052113</td>\n",
       "      <td>0.005152</td>\n",
       "      <td>0.001055</td>\n",
       "      <td>0.014275</td>\n",
       "      <td>-0.021772</td>\n",
       "      <td>0.013736</td>\n",
       "    </tr>\n",
       "    <tr>\n",
       "      <th>3</th>\n",
       "      <td>I love chocolate</td>\n",
       "      <td>0.006636</td>\n",
       "      <td>0.064626</td>\n",
       "      <td>-0.013807</td>\n",
       "      <td>-0.033736</td>\n",
       "      <td>0.029540</td>\n",
       "      <td>0.037605</td>\n",
       "      <td>-0.115993</td>\n",
       "      <td>-0.037991</td>\n",
       "      <td>-0.015443</td>\n",
       "      <td>...</td>\n",
       "      <td>-0.061486</td>\n",
       "      <td>0.002456</td>\n",
       "      <td>0.029349</td>\n",
       "      <td>0.020871</td>\n",
       "      <td>0.011410</td>\n",
       "      <td>0.013543</td>\n",
       "      <td>-0.001590</td>\n",
       "      <td>0.028215</td>\n",
       "      <td>-0.004864</td>\n",
       "      <td>-0.005961</td>\n",
       "    </tr>\n",
       "    <tr>\n",
       "      <th>4</th>\n",
       "      <td>I do not love chocolate enough</td>\n",
       "      <td>0.045823</td>\n",
       "      <td>0.075518</td>\n",
       "      <td>-0.014516</td>\n",
       "      <td>-0.008334</td>\n",
       "      <td>0.048082</td>\n",
       "      <td>0.035708</td>\n",
       "      <td>-0.093279</td>\n",
       "      <td>-0.045628</td>\n",
       "      <td>-0.017064</td>\n",
       "      <td>...</td>\n",
       "      <td>-0.017615</td>\n",
       "      <td>0.035074</td>\n",
       "      <td>-0.001189</td>\n",
       "      <td>-0.003562</td>\n",
       "      <td>0.050025</td>\n",
       "      <td>-0.006263</td>\n",
       "      <td>0.010558</td>\n",
       "      <td>0.036269</td>\n",
       "      <td>0.005528</td>\n",
       "      <td>-0.014054</td>\n",
       "    </tr>\n",
       "    <tr>\n",
       "      <th>5</th>\n",
       "      <td>I do not dislike chocolate</td>\n",
       "      <td>0.036773</td>\n",
       "      <td>0.047030</td>\n",
       "      <td>-0.003065</td>\n",
       "      <td>-0.000731</td>\n",
       "      <td>-0.003272</td>\n",
       "      <td>0.051098</td>\n",
       "      <td>-0.077572</td>\n",
       "      <td>-0.045643</td>\n",
       "      <td>0.009401</td>\n",
       "      <td>...</td>\n",
       "      <td>-0.026499</td>\n",
       "      <td>0.001704</td>\n",
       "      <td>-0.011190</td>\n",
       "      <td>0.027210</td>\n",
       "      <td>0.014227</td>\n",
       "      <td>0.006483</td>\n",
       "      <td>-0.012501</td>\n",
       "      <td>0.044393</td>\n",
       "      <td>0.002029</td>\n",
       "      <td>0.005601</td>\n",
       "    </tr>\n",
       "  </tbody>\n",
       "</table>\n",
       "<p>6 rows × 769 columns</p>\n",
       "</div>"
      ],
      "text/plain": [
       "                        sentences         0         1         2         3  \\\n",
       "0         I do not like chocolate  0.054062  0.042980 -0.009925  0.019411   \n",
       "1             I dislike chocolate  0.045687  0.046835  0.004432 -0.003297   \n",
       "2                I hate chocolate  0.041564  0.047781  0.006167 -0.019748   \n",
       "3                I love chocolate  0.006636  0.064626 -0.013807 -0.033736   \n",
       "4  I do not love chocolate enough  0.045823  0.075518 -0.014516 -0.008334   \n",
       "5      I do not dislike chocolate  0.036773  0.047030 -0.003065 -0.000731   \n",
       "\n",
       "          4         5         6         7         8  ...       758       759  \\\n",
       "0  0.003796  0.040015 -0.053330 -0.028859  0.031717  ... -0.012775  0.003404   \n",
       "1  0.009619  0.057770 -0.068213 -0.036482  0.004739  ... -0.017427  0.009676   \n",
       "2  0.007135  0.059544 -0.066038 -0.036976 -0.002598  ... -0.023427  0.009418   \n",
       "3  0.029540  0.037605 -0.115993 -0.037991 -0.015443  ... -0.061486  0.002456   \n",
       "4  0.048082  0.035708 -0.093279 -0.045628 -0.017064  ... -0.017615  0.035074   \n",
       "5 -0.003272  0.051098 -0.077572 -0.045643  0.009401  ... -0.026499  0.001704   \n",
       "\n",
       "        760       761       762       763       764       765       766  \\\n",
       "0 -0.039866  0.013771  0.004033  0.019792 -0.022589  0.040459  0.003660   \n",
       "1 -0.020322  0.013982  0.036550  0.003776  0.001866  0.028782 -0.008772   \n",
       "2 -0.013317  0.005391  0.052113  0.005152  0.001055  0.014275 -0.021772   \n",
       "3  0.029349  0.020871  0.011410  0.013543 -0.001590  0.028215 -0.004864   \n",
       "4 -0.001189 -0.003562  0.050025 -0.006263  0.010558  0.036269  0.005528   \n",
       "5 -0.011190  0.027210  0.014227  0.006483 -0.012501  0.044393  0.002029   \n",
       "\n",
       "        767  \n",
       "0  0.018704  \n",
       "1  0.015054  \n",
       "2  0.013736  \n",
       "3 -0.005961  \n",
       "4 -0.014054  \n",
       "5  0.005601  \n",
       "\n",
       "[6 rows x 769 columns]"
      ]
     },
     "execution_count": 5,
     "metadata": {},
     "output_type": "execute_result"
    }
   ],
   "source": [
    "from sentence_transformers import SentenceTransformer\n",
    "model = SentenceTransformer('all-mpnet-base-v2') #all-MiniLM-L6-v2 #all-mpnet-base-v2\n",
    "\n",
    "#Our sentences we like to encode\n",
    "sentences = ['I do not like chocolate', 'I dislike chocolate', 'I hate chocolate', 'I love chocolate', 'I do not love chocolate enough', 'I do not dislike chocolate']\n",
    "\n",
    "#Sentences are encoded by calling model.encode()\n",
    "embeddings = model.encode(sentences)\n",
    "\n",
    "#Print the embeddings\n",
    "for sentence, embedding in zip(sentences, embeddings):\n",
    "    #print(\"Sentence:\", sentence)\n",
    "    #print(\"Embedding:\", embedding)\n",
    "    pass\n",
    "\n",
    "import pandas as pd\n",
    "\n",
    "df = pd.concat([pd.DataFrame(sentences).rename(columns={0:'sentences'}), pd.DataFrame(embeddings)], axis=1)\n",
    "df"
   ]
  },
  {
   "cell_type": "code",
   "execution_count": 6,
   "metadata": {},
   "outputs": [
    {
     "data": {
      "application/vnd.plotly.v1+json": {
       "config": {
        "plotlyServerURL": "https://plot.ly"
       },
       "data": [
        {
         "hovertemplate": "x=%{x}<br>y=%{y}<br>sentences=%{text}<extra></extra>",
         "legendgroup": "",
         "marker": {
          "color": "#636efa",
          "symbol": "circle"
         },
         "mode": "markers+text",
         "name": "",
         "orientation": "v",
         "showlegend": false,
         "text": [
          "I do not like chocolate",
          "I dislike chocolate",
          "I hate chocolate",
          "I love chocolate",
          "I do not love chocolate enough",
          "I do not dislike chocolate"
         ],
         "textfont": {
          "size": 22
         },
         "type": "scatter",
         "x": [
          -0.23264938592910767,
          -0.21659646928310394,
          -0.15702460706233978,
          0.4488787353038788,
          0.24947649240493774,
          -0.09208469837903976
         ],
         "xaxis": "x",
         "y": [
          0.12785468995571136,
          -0.07728809118270874,
          -0.06003119423985481,
          -0.22859922051429749,
          0.37508341670036316,
          -0.13701961934566498
         ],
         "yaxis": "y"
        }
       ],
       "layout": {
        "legend": {
         "tracegroupgap": 0
        },
        "margin": {
         "t": 60
        },
        "template": {
         "data": {
          "bar": [
           {
            "error_x": {
             "color": "#2a3f5f"
            },
            "error_y": {
             "color": "#2a3f5f"
            },
            "marker": {
             "line": {
              "color": "#E5ECF6",
              "width": 0.5
             }
            },
            "type": "bar"
           }
          ],
          "barpolar": [
           {
            "marker": {
             "line": {
              "color": "#E5ECF6",
              "width": 0.5
             }
            },
            "type": "barpolar"
           }
          ],
          "carpet": [
           {
            "aaxis": {
             "endlinecolor": "#2a3f5f",
             "gridcolor": "white",
             "linecolor": "white",
             "minorgridcolor": "white",
             "startlinecolor": "#2a3f5f"
            },
            "baxis": {
             "endlinecolor": "#2a3f5f",
             "gridcolor": "white",
             "linecolor": "white",
             "minorgridcolor": "white",
             "startlinecolor": "#2a3f5f"
            },
            "type": "carpet"
           }
          ],
          "choropleth": [
           {
            "colorbar": {
             "outlinewidth": 0,
             "ticks": ""
            },
            "type": "choropleth"
           }
          ],
          "contour": [
           {
            "colorbar": {
             "outlinewidth": 0,
             "ticks": ""
            },
            "colorscale": [
             [
              0,
              "#0d0887"
             ],
             [
              0.1111111111111111,
              "#46039f"
             ],
             [
              0.2222222222222222,
              "#7201a8"
             ],
             [
              0.3333333333333333,
              "#9c179e"
             ],
             [
              0.4444444444444444,
              "#bd3786"
             ],
             [
              0.5555555555555556,
              "#d8576b"
             ],
             [
              0.6666666666666666,
              "#ed7953"
             ],
             [
              0.7777777777777778,
              "#fb9f3a"
             ],
             [
              0.8888888888888888,
              "#fdca26"
             ],
             [
              1,
              "#f0f921"
             ]
            ],
            "type": "contour"
           }
          ],
          "contourcarpet": [
           {
            "colorbar": {
             "outlinewidth": 0,
             "ticks": ""
            },
            "type": "contourcarpet"
           }
          ],
          "heatmap": [
           {
            "colorbar": {
             "outlinewidth": 0,
             "ticks": ""
            },
            "colorscale": [
             [
              0,
              "#0d0887"
             ],
             [
              0.1111111111111111,
              "#46039f"
             ],
             [
              0.2222222222222222,
              "#7201a8"
             ],
             [
              0.3333333333333333,
              "#9c179e"
             ],
             [
              0.4444444444444444,
              "#bd3786"
             ],
             [
              0.5555555555555556,
              "#d8576b"
             ],
             [
              0.6666666666666666,
              "#ed7953"
             ],
             [
              0.7777777777777778,
              "#fb9f3a"
             ],
             [
              0.8888888888888888,
              "#fdca26"
             ],
             [
              1,
              "#f0f921"
             ]
            ],
            "type": "heatmap"
           }
          ],
          "heatmapgl": [
           {
            "colorbar": {
             "outlinewidth": 0,
             "ticks": ""
            },
            "colorscale": [
             [
              0,
              "#0d0887"
             ],
             [
              0.1111111111111111,
              "#46039f"
             ],
             [
              0.2222222222222222,
              "#7201a8"
             ],
             [
              0.3333333333333333,
              "#9c179e"
             ],
             [
              0.4444444444444444,
              "#bd3786"
             ],
             [
              0.5555555555555556,
              "#d8576b"
             ],
             [
              0.6666666666666666,
              "#ed7953"
             ],
             [
              0.7777777777777778,
              "#fb9f3a"
             ],
             [
              0.8888888888888888,
              "#fdca26"
             ],
             [
              1,
              "#f0f921"
             ]
            ],
            "type": "heatmapgl"
           }
          ],
          "histogram": [
           {
            "marker": {
             "colorbar": {
              "outlinewidth": 0,
              "ticks": ""
             }
            },
            "type": "histogram"
           }
          ],
          "histogram2d": [
           {
            "colorbar": {
             "outlinewidth": 0,
             "ticks": ""
            },
            "colorscale": [
             [
              0,
              "#0d0887"
             ],
             [
              0.1111111111111111,
              "#46039f"
             ],
             [
              0.2222222222222222,
              "#7201a8"
             ],
             [
              0.3333333333333333,
              "#9c179e"
             ],
             [
              0.4444444444444444,
              "#bd3786"
             ],
             [
              0.5555555555555556,
              "#d8576b"
             ],
             [
              0.6666666666666666,
              "#ed7953"
             ],
             [
              0.7777777777777778,
              "#fb9f3a"
             ],
             [
              0.8888888888888888,
              "#fdca26"
             ],
             [
              1,
              "#f0f921"
             ]
            ],
            "type": "histogram2d"
           }
          ],
          "histogram2dcontour": [
           {
            "colorbar": {
             "outlinewidth": 0,
             "ticks": ""
            },
            "colorscale": [
             [
              0,
              "#0d0887"
             ],
             [
              0.1111111111111111,
              "#46039f"
             ],
             [
              0.2222222222222222,
              "#7201a8"
             ],
             [
              0.3333333333333333,
              "#9c179e"
             ],
             [
              0.4444444444444444,
              "#bd3786"
             ],
             [
              0.5555555555555556,
              "#d8576b"
             ],
             [
              0.6666666666666666,
              "#ed7953"
             ],
             [
              0.7777777777777778,
              "#fb9f3a"
             ],
             [
              0.8888888888888888,
              "#fdca26"
             ],
             [
              1,
              "#f0f921"
             ]
            ],
            "type": "histogram2dcontour"
           }
          ],
          "mesh3d": [
           {
            "colorbar": {
             "outlinewidth": 0,
             "ticks": ""
            },
            "type": "mesh3d"
           }
          ],
          "parcoords": [
           {
            "line": {
             "colorbar": {
              "outlinewidth": 0,
              "ticks": ""
             }
            },
            "type": "parcoords"
           }
          ],
          "pie": [
           {
            "automargin": true,
            "type": "pie"
           }
          ],
          "scatter": [
           {
            "marker": {
             "colorbar": {
              "outlinewidth": 0,
              "ticks": ""
             }
            },
            "type": "scatter"
           }
          ],
          "scatter3d": [
           {
            "line": {
             "colorbar": {
              "outlinewidth": 0,
              "ticks": ""
             }
            },
            "marker": {
             "colorbar": {
              "outlinewidth": 0,
              "ticks": ""
             }
            },
            "type": "scatter3d"
           }
          ],
          "scattercarpet": [
           {
            "marker": {
             "colorbar": {
              "outlinewidth": 0,
              "ticks": ""
             }
            },
            "type": "scattercarpet"
           }
          ],
          "scattergeo": [
           {
            "marker": {
             "colorbar": {
              "outlinewidth": 0,
              "ticks": ""
             }
            },
            "type": "scattergeo"
           }
          ],
          "scattergl": [
           {
            "marker": {
             "colorbar": {
              "outlinewidth": 0,
              "ticks": ""
             }
            },
            "type": "scattergl"
           }
          ],
          "scattermapbox": [
           {
            "marker": {
             "colorbar": {
              "outlinewidth": 0,
              "ticks": ""
             }
            },
            "type": "scattermapbox"
           }
          ],
          "scatterpolar": [
           {
            "marker": {
             "colorbar": {
              "outlinewidth": 0,
              "ticks": ""
             }
            },
            "type": "scatterpolar"
           }
          ],
          "scatterpolargl": [
           {
            "marker": {
             "colorbar": {
              "outlinewidth": 0,
              "ticks": ""
             }
            },
            "type": "scatterpolargl"
           }
          ],
          "scatterternary": [
           {
            "marker": {
             "colorbar": {
              "outlinewidth": 0,
              "ticks": ""
             }
            },
            "type": "scatterternary"
           }
          ],
          "surface": [
           {
            "colorbar": {
             "outlinewidth": 0,
             "ticks": ""
            },
            "colorscale": [
             [
              0,
              "#0d0887"
             ],
             [
              0.1111111111111111,
              "#46039f"
             ],
             [
              0.2222222222222222,
              "#7201a8"
             ],
             [
              0.3333333333333333,
              "#9c179e"
             ],
             [
              0.4444444444444444,
              "#bd3786"
             ],
             [
              0.5555555555555556,
              "#d8576b"
             ],
             [
              0.6666666666666666,
              "#ed7953"
             ],
             [
              0.7777777777777778,
              "#fb9f3a"
             ],
             [
              0.8888888888888888,
              "#fdca26"
             ],
             [
              1,
              "#f0f921"
             ]
            ],
            "type": "surface"
           }
          ],
          "table": [
           {
            "cells": {
             "fill": {
              "color": "#EBF0F8"
             },
             "line": {
              "color": "white"
             }
            },
            "header": {
             "fill": {
              "color": "#C8D4E3"
             },
             "line": {
              "color": "white"
             }
            },
            "type": "table"
           }
          ]
         },
         "layout": {
          "annotationdefaults": {
           "arrowcolor": "#2a3f5f",
           "arrowhead": 0,
           "arrowwidth": 1
          },
          "coloraxis": {
           "colorbar": {
            "outlinewidth": 0,
            "ticks": ""
           }
          },
          "colorscale": {
           "diverging": [
            [
             0,
             "#8e0152"
            ],
            [
             0.1,
             "#c51b7d"
            ],
            [
             0.2,
             "#de77ae"
            ],
            [
             0.3,
             "#f1b6da"
            ],
            [
             0.4,
             "#fde0ef"
            ],
            [
             0.5,
             "#f7f7f7"
            ],
            [
             0.6,
             "#e6f5d0"
            ],
            [
             0.7,
             "#b8e186"
            ],
            [
             0.8,
             "#7fbc41"
            ],
            [
             0.9,
             "#4d9221"
            ],
            [
             1,
             "#276419"
            ]
           ],
           "sequential": [
            [
             0,
             "#0d0887"
            ],
            [
             0.1111111111111111,
             "#46039f"
            ],
            [
             0.2222222222222222,
             "#7201a8"
            ],
            [
             0.3333333333333333,
             "#9c179e"
            ],
            [
             0.4444444444444444,
             "#bd3786"
            ],
            [
             0.5555555555555556,
             "#d8576b"
            ],
            [
             0.6666666666666666,
             "#ed7953"
            ],
            [
             0.7777777777777778,
             "#fb9f3a"
            ],
            [
             0.8888888888888888,
             "#fdca26"
            ],
            [
             1,
             "#f0f921"
            ]
           ],
           "sequentialminus": [
            [
             0,
             "#0d0887"
            ],
            [
             0.1111111111111111,
             "#46039f"
            ],
            [
             0.2222222222222222,
             "#7201a8"
            ],
            [
             0.3333333333333333,
             "#9c179e"
            ],
            [
             0.4444444444444444,
             "#bd3786"
            ],
            [
             0.5555555555555556,
             "#d8576b"
            ],
            [
             0.6666666666666666,
             "#ed7953"
            ],
            [
             0.7777777777777778,
             "#fb9f3a"
            ],
            [
             0.8888888888888888,
             "#fdca26"
            ],
            [
             1,
             "#f0f921"
            ]
           ]
          },
          "colorway": [
           "#636efa",
           "#EF553B",
           "#00cc96",
           "#ab63fa",
           "#FFA15A",
           "#19d3f3",
           "#FF6692",
           "#B6E880",
           "#FF97FF",
           "#FECB52"
          ],
          "font": {
           "color": "#2a3f5f"
          },
          "geo": {
           "bgcolor": "white",
           "lakecolor": "white",
           "landcolor": "#E5ECF6",
           "showlakes": true,
           "showland": true,
           "subunitcolor": "white"
          },
          "hoverlabel": {
           "align": "left"
          },
          "hovermode": "closest",
          "mapbox": {
           "style": "light"
          },
          "paper_bgcolor": "white",
          "plot_bgcolor": "#E5ECF6",
          "polar": {
           "angularaxis": {
            "gridcolor": "white",
            "linecolor": "white",
            "ticks": ""
           },
           "bgcolor": "#E5ECF6",
           "radialaxis": {
            "gridcolor": "white",
            "linecolor": "white",
            "ticks": ""
           }
          },
          "scene": {
           "xaxis": {
            "backgroundcolor": "#E5ECF6",
            "gridcolor": "white",
            "gridwidth": 2,
            "linecolor": "white",
            "showbackground": true,
            "ticks": "",
            "zerolinecolor": "white"
           },
           "yaxis": {
            "backgroundcolor": "#E5ECF6",
            "gridcolor": "white",
            "gridwidth": 2,
            "linecolor": "white",
            "showbackground": true,
            "ticks": "",
            "zerolinecolor": "white"
           },
           "zaxis": {
            "backgroundcolor": "#E5ECF6",
            "gridcolor": "white",
            "gridwidth": 2,
            "linecolor": "white",
            "showbackground": true,
            "ticks": "",
            "zerolinecolor": "white"
           }
          },
          "shapedefaults": {
           "line": {
            "color": "#2a3f5f"
           }
          },
          "ternary": {
           "aaxis": {
            "gridcolor": "white",
            "linecolor": "white",
            "ticks": ""
           },
           "baxis": {
            "gridcolor": "white",
            "linecolor": "white",
            "ticks": ""
           },
           "bgcolor": "#E5ECF6",
           "caxis": {
            "gridcolor": "white",
            "linecolor": "white",
            "ticks": ""
           }
          },
          "title": {
           "x": 0.05
          },
          "xaxis": {
           "automargin": true,
           "gridcolor": "white",
           "linecolor": "white",
           "ticks": "",
           "title": {
            "standoff": 15
           },
           "zerolinecolor": "white",
           "zerolinewidth": 2
          },
          "yaxis": {
           "automargin": true,
           "gridcolor": "white",
           "linecolor": "white",
           "ticks": "",
           "title": {
            "standoff": 15
           },
           "zerolinecolor": "white",
           "zerolinewidth": 2
          }
         }
        },
        "xaxis": {
         "anchor": "y",
         "domain": [
          0,
          1
         ],
         "title": {
          "text": "x"
         }
        },
        "yaxis": {
         "anchor": "x",
         "domain": [
          0,
          1
         ],
         "title": {
          "text": "y"
         }
        }
       }
      }
     },
     "metadata": {},
     "output_type": "display_data"
    },
    {
     "data": {
      "text/plain": [
       "<Figure size 1008x576 with 0 Axes>"
      ]
     },
     "metadata": {},
     "output_type": "display_data"
    }
   ],
   "source": [
    "from sklearn.decomposition import PCA\n",
    "import matplotlib.pyplot as plt\n",
    "\n",
    "pca = PCA(n_components=2, svd_solver='auto')\n",
    "pca_result = pca.fit_transform(df.drop('sentences', axis=1).values)\n",
    "#display(df)\n",
    "\n",
    "fig = plt.figure(figsize=(14, 8))\n",
    "x = list(pca_result[:,0])\n",
    "y = list(pca_result[:,1])\n",
    "# x and y given as array_like objects\n",
    "import plotly.express as px\n",
    "fig = px.scatter(df, x=x, y=y, text=df.sentences)\n",
    "fig.update_traces(textfont_size=22)\n",
    "fig.show()"
   ]
  }
 ],
 "metadata": {
  "interpreter": {
   "hash": "75a300ae82dd7b8f387c1777b66b2ec8c7a5f6d51d6392630ee9b10fab7f95f8"
  },
  "kernelspec": {
   "display_name": "Python 3.9.0 64-bit",
   "language": "python",
   "name": "python3"
  },
  "language_info": {
   "codemirror_mode": {
    "name": "ipython",
    "version": 3
   },
   "file_extension": ".py",
   "mimetype": "text/x-python",
   "name": "python",
   "nbconvert_exporter": "python",
   "pygments_lexer": "ipython3",
   "version": "3.9.0"
  },
  "orig_nbformat": 4
 },
 "nbformat": 4,
 "nbformat_minor": 2
}
