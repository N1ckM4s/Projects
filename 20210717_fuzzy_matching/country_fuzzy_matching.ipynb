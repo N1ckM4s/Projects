{
  "nbformat": 4,
  "nbformat_minor": 0,
  "metadata": {
    "colab": {
      "name": "country fuzzy matching.ipynb",
      "private_outputs": true,
      "provenance": [],
      "collapsed_sections": []
    },
    "kernelspec": {
      "name": "python3",
      "display_name": "Python 3"
    },
    "language_info": {
      "name": "python"
    }
  },
  "cells": [
    {
      "cell_type": "code",
      "metadata": {
        "id": "8eScfLplC8uz"
      },
      "source": [
        "!pip install hdx-python-country"
      ],
      "execution_count": null,
      "outputs": []
    },
    {
      "cell_type": "code",
      "metadata": {
        "id": "pzMDPCyyDCvY"
      },
      "source": [
        "from hdx.location.country import Country\n",
        "\n",
        "#Set up using non live data from repo rather and override default country name\n",
        "#(Leaving out this step will use live data and no overrides)\n",
        "#we place tge dict into a variable so we can add custom countries\n",
        "c = Country.countriesdata(use_live=False, country_name_overrides={'PSE': 'oPt'})['countrynames2iso3']\n",
        "\n",
        "#adding custom countries\n",
        "#I can only add data WHEN USING CAPITAL LETTER FOR THE COUNTRY NAME \n",
        "#ex. (c['Michelangiolo'] = 'GBR') non funziona\n",
        "#ex. (c['MICHELANGIOLO'] = 'GBR') invece funziona\n",
        "#c['ENGLAND'] = 'GBR'\n",
        "#c['MICHELANGIOLO'] = 'GBR'\n",
        "\n",
        "#we can look at the dict printing c\n",
        "print(c)"
      ],
      "execution_count": null,
      "outputs": []
    },
    {
      "cell_type": "code",
      "metadata": {
        "id": "rK__dHJbMV4y"
      },
      "source": [
        "#delete keys, if we change our mind\n",
        "#c.pop('ENGLAND')"
      ],
      "execution_count": null,
      "outputs": []
    },
    {
      "cell_type": "code",
      "metadata": {
        "id": "59r4HRWoI-PH"
      },
      "source": [
        "#c is the dictionary we can edit, the object is still Country\n",
        "#we have to use this to call methods"
      ],
      "execution_count": null,
      "outputs": []
    },
    {
      "cell_type": "code",
      "metadata": {
        "id": "l12oKNdIDQhT"
      },
      "source": [
        "#se inputtiamo l'alpha-2 ESATTO del paese ritorna il nome del paese\n",
        "Country.get_country_name_from_iso2('It')"
      ],
      "execution_count": null,
      "outputs": []
    },
    {
      "cell_type": "code",
      "metadata": {
        "id": "WVfxaCEKE1Vg"
      },
      "source": [
        "#se inputtiamo l'alpha-3 ESATTO del paese ritorna il nome del paese\n",
        "Country.get_country_name_from_iso3('ita', use_live=False)"
      ],
      "execution_count": null,
      "outputs": []
    },
    {
      "cell_type": "code",
      "metadata": {
        "id": "X3xj-PwHE_Pq"
      },
      "source": [
        "#se inputtiamo il nome del paese ESATTO ritorna il country_code\n",
        "Country.get_iso3_country_code('italy')  # returns 'UZB'"
      ],
      "execution_count": null,
      "outputs": []
    },
    {
      "cell_type": "code",
      "metadata": {
        "id": "c7nuRADhFNC4"
      },
      "source": [
        "#fuzzy matching, output boolean tells us if its a fuzzy matching or not\n",
        "#c.get_iso3_country_code_fuzzy('Michelangiolo')"
      ],
      "execution_count": null,
      "outputs": []
    },
    {
      "cell_type": "code",
      "metadata": {
        "id": "0QKHpoBvDZxX"
      },
      "source": [
        "#country fuzzy matching\n",
        "import pandas as pd\n",
        "\n",
        "df = pd.read_excel('/content/drive/MyDrive/Colab Notebooks/Projects/20210717_fuzzy_matching/app1.xlsx')[['Unnamed: 9']].rename(columns={'Unnamed: 9':'Name'})\n",
        "df = df.dropna()\n",
        "df"
      ],
      "execution_count": null,
      "outputs": []
    },
    {
      "cell_type": "code",
      "metadata": {
        "id": "Tv2NCPsvMC2r"
      },
      "source": [
        "df['country_tag'] = df['Name'].apply(lambda x: Country.get_iso3_country_code(x))\n",
        "df"
      ],
      "execution_count": null,
      "outputs": []
    },
    {
      "cell_type": "code",
      "metadata": {
        "id": "YEwW8ZJDKU2f"
      },
      "source": [
        "#check for the top countries in the df that have returned None\n",
        "#if their number is significant, we can work on the top 3, for example, and add them to the c dictionary at the top\n",
        "pd.DataFrame(df[df['country_tag'].isnull()].groupby(by='Name').size()).reset_index().sort_values(0, ascending=False)"
      ],
      "execution_count": null,
      "outputs": []
    },
    {
      "cell_type": "code",
      "metadata": {
        "id": "w3a7nYUCNw8G"
      },
      "source": [
        "#adding exceptions to the \n",
        "c['ENGLAND'] = 'GBR'\n",
        "c['BRASIL'] = 'BRA'\n",
        "c['LONDON'] = 'GBR'\n",
        "\n",
        "#re-run the algo, now that the we have been adding a few exceptions to c\n",
        "df['country_tag'] = df['Name'].apply(lambda x: Country.get_iso3_country_code(x))\n",
        "\n",
        "#double-check latest results of the top missing countries with similar names\n",
        "pd.DataFrame(df[df['country_tag'].isnull()].groupby(by='Name').size()).reset_index().sort_values(0, ascending=False)"
      ],
      "execution_count": null,
      "outputs": []
    },
    {
      "cell_type": "code",
      "metadata": {
        "id": "GU8WoW_rHgUu"
      },
      "source": [
        "#filter for checking\n",
        "df[df['Name']=='England']"
      ],
      "execution_count": null,
      "outputs": []
    },
    {
      "cell_type": "code",
      "metadata": {
        "id": "9J3LgeXeNu1X"
      },
      "source": [
        "df.to_csv('countries.csv')"
      ],
      "execution_count": null,
      "outputs": []
    }
  ]
}