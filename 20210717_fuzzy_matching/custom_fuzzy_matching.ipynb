{
  "nbformat": 4,
  "nbformat_minor": 0,
  "metadata": {
    "colab": {
      "name": "custom fuzzy matching.ipynb",
      "private_outputs": true,
      "provenance": [],
      "collapsed_sections": []
    },
    "kernelspec": {
      "name": "python3",
      "display_name": "Python 3"
    },
    "language_info": {
      "name": "python"
    }
  },
  "cells": [
    {
      "cell_type": "code",
      "metadata": {
        "id": "cRD6JXVClwE1"
      },
      "source": [
        "#used for customized fuzzy string matching\n",
        "!pip install fuzzywuzzy"
      ],
      "execution_count": null,
      "outputs": []
    },
    {
      "cell_type": "code",
      "metadata": {
        "id": "P8XBoXnQXnI2"
      },
      "source": [
        "from fuzzywuzzy import fuzz\n",
        "from fuzzywuzzy import process\n",
        "\n",
        "choices = ['Italy', 'England', 'Russia']\n",
        "\n",
        "#shows the result for all possible choices\n",
        "process.extract(\"ITA\", choices, scorer=fuzz.token_sort_ratio)\n",
        "\n",
        "#returns the best choice\n",
        "process.extractOne(\"ITA\", choices, scorer=fuzz.token_sort_ratio)"
      ],
      "execution_count": null,
      "outputs": []
    },
    {
      "cell_type": "code",
      "metadata": {
        "id": "ehMRbY1jXezJ"
      },
      "source": [
        "import pandas as pd\n",
        "\n",
        "#applying fuzzy string matching to a choice df\n",
        "df = pd.DataFrame(['italy', 'ITALY', 'ital'])\n",
        "choices = choices = ['Italy', 'England', 'Russia']\n",
        "\n",
        "df = pd.concat([df, pd.DataFrame(df[0].apply(lambda x : process.extractOne(x, choices, scorer=fuzz.token_sort_ratio)[0]))], axis=1)\n",
        "df.columns = ['before', 'after']\n",
        "df"
      ],
      "execution_count": null,
      "outputs": []
    }
  ]
}