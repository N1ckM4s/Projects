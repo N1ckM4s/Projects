{
  "nbformat": 4,
  "nbformat_minor": 0,
  "metadata": {
    "colab": {
      "name": "Untitled8.ipynb",
      "private_outputs": true,
      "provenance": [],
      "collapsed_sections": []
    },
    "kernelspec": {
      "name": "python3",
      "display_name": "Python 3"
    },
    "language_info": {
      "name": "python"
    }
  },
  "cells": [
    {
      "cell_type": "code",
      "metadata": {
        "id": "JLrSFZT-i3rH"
      },
      "source": [
        "cols = df.columns.tolist()\n",
        "print(cols)\n",
        "cols = [4, 0, 2, 3]\n",
        "df = df[cols]\n",
        "#df = df[[4]]"
      ],
      "execution_count": null,
      "outputs": []
    },
    {
      "cell_type": "code",
      "metadata": {
        "id": "hJGuQt3whVPl"
      },
      "source": [
        "import pandas as pd\n",
        "\n",
        "df = pd.read_csv('/content/tot.csv', sep='.', header=None)\n",
        "df.index = df.pop(1)\n",
        "\n",
        "df[3] = df[3].apply(lambda x : float(x.split('$ ')[1]))\n",
        "df = df[[3]]\n",
        "df.iloc[0]\n",
        "df.to_csv('tot2.csv')"
      ],
      "execution_count": null,
      "outputs": []
    },
    {
      "cell_type": "code",
      "metadata": {
        "id": "cgG-HdJ5Arg2"
      },
      "source": [
        "df = pd.DataFrame([[1, 2, 3, 4], [100, 200, 300, 400]]).T\n",
        "df.index = list('abcd')\n",
        "df.columns = ['MM', \"Dave\"]\n",
        "df"
      ],
      "execution_count": null,
      "outputs": []
    },
    {
      "cell_type": "code",
      "metadata": {
        "id": "wcktlET4DFoa"
      },
      "source": [
        "df = pd.read_csv('/content/nvda (1).csv', sep=',')\n",
        "df"
      ],
      "execution_count": null,
      "outputs": []
    },
    {
      "cell_type": "code",
      "metadata": {
        "id": "_w3zUBhpUbMP"
      },
      "source": [
        "pd.read_csv('/content/tot2.csv')"
      ],
      "execution_count": null,
      "outputs": []
    },
    {
      "cell_type": "code",
      "metadata": {
        "id": "8ApxOQsf-ziC"
      },
      "source": [
        "def json_converter(path, selected_cols=None):\n",
        "  df = pd.read_csv(path, sep=',')[0:10]\n",
        "  column_names = df.columns\n",
        "\n",
        "  def jsoncreator(df, column_list, index_name=None):\n",
        "    dict_list = list()\n",
        "    for x in range(len(df[column_list])):\n",
        "      dict1 = dict()\n",
        "      for column_name in column_list:\n",
        "        if index_name != None:\n",
        "          dict1[index_name] = df.index[x]   \n",
        "        dict1[column_name] = df[column_name][x]\n",
        "        \n",
        "      dict_list.append(dict1)\n",
        "    \n",
        "    return dict_list\n",
        "\n",
        "  if selected_cols == None:\n",
        "    selected_cols = column_names\n",
        "\n",
        "  res = jsoncreator(df, selected_cols)\n",
        "  return res\n",
        "\n",
        "#def remove_duplicates(dict1):\n",
        "#  return [dict(t) for t in {tuple(d.items()) for d in dict1}]\n",
        "#remove_duplicates(json_converter('/content/tot2.csv'))\n",
        "json_converter('/content/tot2.csv')"
      ],
      "execution_count": null,
      "outputs": []
    },
    {
      "cell_type": "code",
      "metadata": {
        "id": "who1KYmRLt8e"
      },
      "source": [
        "str1 = str(\"['Symbol', 'Date', 'Open', 'High', 'Low', 'Close', 'Volume']\")\n",
        "str1 = [1:]"
      ],
      "execution_count": null,
      "outputs": []
    },
    {
      "cell_type": "code",
      "metadata": {
        "id": "KeWp4GR_n35X"
      },
      "source": [
        "res = dict()\n",
        "res['price'] = values\n",
        "res"
      ],
      "execution_count": null,
      "outputs": []
    },
    {
      "cell_type": "code",
      "metadata": {
        "id": "fEJcd97AoeJe"
      },
      "source": [
        "keys = list(df.index)\n",
        "values = list(df[3])\n",
        "\n",
        "res = dict()\n",
        "res = {keys[i]: values[i] for i in range(len(keys))}"
      ],
      "execution_count": null,
      "outputs": []
    },
    {
      "cell_type": "code",
      "metadata": {
        "id": "2i-2cNV-rC9Q"
      },
      "source": [
        "res"
      ],
      "execution_count": null,
      "outputs": []
    },
    {
      "cell_type": "code",
      "metadata": {
        "id": "ck1B4IKfjBmX"
      },
      "source": [
        "#export res\n",
        "import json\n",
        "with open('result.json', 'w') as fp:\n",
        "  json.dump(res, fp)"
      ],
      "execution_count": null,
      "outputs": []
    },
    {
      "cell_type": "markdown",
      "metadata": {
        "id": "HrkLkXPAhEGZ"
      },
      "source": [
        "POLLO"
      ]
    },
    {
      "cell_type": "code",
      "metadata": {
        "id": "Z-V4NUl4hEaU"
      },
      "source": [
        "class pollo():\n",
        "  def __init__(self, colore_carne, gusto):\n",
        "    self.colore_carne = colore_carne\n",
        "    self.gusto = gusto\n",
        "\n",
        "  def cuoci_pollo(self):\n",
        "    if self.colore_carne == 'bianca':\n",
        "      print('al forno')\n",
        "    else:\n",
        "      print('arrosto')\n",
        "\n",
        "pollo_coop = pollo('bianca', 5)\n",
        "pollo_faraona = pollo('bruna', 7)\n",
        "pollo_faraona.cuoci_pollo()"
      ],
      "execution_count": null,
      "outputs": []
    },
    {
      "cell_type": "markdown",
      "metadata": {
        "id": "s1SMa97HMoB8"
      },
      "source": [
        ""
      ]
    },
    {
      "cell_type": "code",
      "metadata": {
        "id": "_dFrV091Mo3N"
      },
      "source": [
        "class person():\n",
        "  def __init__(self):\n",
        "    self.value_map = dict()\n",
        "\n",
        "  def set_relationship(self, obj1, value):\n",
        "    self.value_map[obj1] = value\n",
        "\n",
        "class object():\n",
        "  def __init__(self):\n",
        "    pass\n",
        "\n",
        "p1 = person()\n",
        "obj1 = object()\n",
        "obj2 = object()\n",
        "\n",
        "p1.set_relationship(obj1, {'metric1':4, 'metric2':30})\n",
        "p1.set_relationship(obj2, {'metric1':12, 'metric2':100})\n",
        "p1.value_map\n",
        "\n",
        "#p1.value_map[obj1]"
      ],
      "execution_count": null,
      "outputs": []
    },
    {
      "cell_type": "code",
      "metadata": {
        "id": "A6Mh3dLhO-5h"
      },
      "source": [
        "import random\n",
        "\n",
        "def relationship_network(n_people, n_values):\n",
        "  class person():\n",
        "    def __init__(self):\n",
        "      self.value_map = dict()\n",
        "\n",
        "    def set_relationship(self, obj1, value):\n",
        "      self.value_map[obj1] = value\n",
        "\n",
        "  #create a list of people\n",
        "  person_list = [person() for x in range(n_people)]\n",
        "\n",
        "  #create relationships between those people\n",
        "  final_list = list()\n",
        "  #iterate through the original list\n",
        "  for person_index in range(len(person_list)):\n",
        "    #make an exact copy, so we can extract a person every time and then reset it\n",
        "    person_list_ = person_list.copy()\n",
        "    popped = person_list_.pop(person_index)\n",
        "    #after extracting a person, create relationship with all the others, and place it in a final list\n",
        "    for remaining in person_list_:\n",
        "      popped.set_relationship(remaining, {'metric_'+str(x+1):random.randint(0, 100) for x in range(n_values)}) #{'metric1': random.randint(0, 100), 'metric2': random.randint(0, 100)})\n",
        "    final_list.append(popped)\n",
        "\n",
        "  #contains the relationship between every element in the system\n",
        "  return final_list\n",
        "\n",
        "\n",
        "relationship_table = relationship_network(3, 3)\n",
        "[print(x.value_map) for x in relationship_table]\n",
        "None\n",
        "\n",
        "#check values of a single person\n",
        "print('person_3')\n",
        "relationship_table[2].value_map"
      ],
      "execution_count": null,
      "outputs": []
    }
  ]
}